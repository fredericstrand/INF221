{
 "cells": [
  {
   "cell_type": "markdown",
   "metadata": {},
   "source": [
    "# Obligatory task 1 INF221\n",
    "\n",
    "Student 1:\n",
    "- Name: Ivar Ødegårdstuen Eftedal\n",
    "- Email: ivar.odegardstuen.eftedal@nmbu.no\n",
    "\n",
    "Student 2:\n",
    "- Name: Frederic Ljosland Strand\n",
    "- Email: frederic.ljosland.strand@nmbu.no"
   ]
  },
  {
   "cell_type": "markdown",
   "metadata": {},
   "source": [
    "## Exercise 1 (2 points)"
   ]
  },
  {
   "cell_type": "code",
   "execution_count": 12,
   "metadata": {},
   "outputs": [
    {
     "name": "stdout",
     "output_type": "stream",
     "text": [
      "   j  i  key             list\n",
      "0  1 -1    1  [5, 5, 3, 4, 2]\n",
      "1  2  0    3  [1, 5, 5, 4, 2]\n",
      "2  3  1    4  [1, 3, 5, 5, 2]\n",
      "3  4  0    2  [1, 3, 3, 4, 5]\n"
     ]
    }
   ],
   "source": [
    "import pandas as pd\n",
    "\n",
    "A = [5, 1, 3, 4, 2]\n",
    "\n",
    "def insertion_sort_visualize(list_to_sort):\n",
    "    df = []\n",
    "\n",
    "    for j in range(1, len(list_to_sort)):\n",
    "        key = A[j]\n",
    "        i = j - 1\n",
    "        while i >= 0 and list_to_sort[i] > key:\n",
    "            list_to_sort[i + 1] = list_to_sort[i]\n",
    "            i = i - 1\n",
    "        \n",
    "        df.append({\n",
    "            \"j\": j,\n",
    "            \"i\": i,\n",
    "            \"key\": key,\n",
    "            \"list\": list_to_sort.copy()\n",
    "        })\n",
    "\n",
    "        list_to_sort[i + 1] = key\n",
    "\n",
    "\n",
    "    visualize_df = pd.DataFrame(df)\n",
    "    print(visualize_df)\n",
    "\n",
    "insertion_sort_visualize(A)"
   ]
  },
  {
   "cell_type": "markdown",
   "metadata": {},
   "source": [
    "# Task 2 (3 points)\n",
    "\n",
    "#### Time complexity\n",
    "\n",
    "The time complexity is dependant on the length of the list, given by `n`\n",
    "\n",
    "- Best case `O(1)`: The target is found at the first index\n",
    "\n",
    "- Average case `O(n/2)`: In theory, on average the number should be found in the middle of the list.\n",
    "\n",
    "- Worst case `O(n)`: Worst case, it will be found in the end of the list\n",
    "\n",
    "#### Pseudocode:\n",
    "\n",
    "```\n",
    "LINEAR-SEARCH(A, x)\n",
    "1. for i = 0 to length(A) - 1 do\n",
    "2.     if A[i] == x then\n",
    "3.         return i\n",
    "4. return NIL\n",
    "````\n",
    "\n",
    "\n"
   ]
  },
  {
   "cell_type": "markdown",
   "metadata": {},
   "source": [
    "## Exerice 3 (3 points)\n",
    "\n",
    "1. Why would it be useful to use numbers as sort keys, instead of strings?\n",
    "    - Faster to compare two numbers, than character by character in a string.\n",
    "    - If each string is converted into a fixed-size, comparisons become constant time `O(n)` instead of varying based on string length\n",
    "\n",
    "2. Conditions for numbers created\n",
    "    - Uniqueness\n",
    "    - The order must preserved. The key must equal the correct information.\n",
    "    - Fixed-legth representation. If each string is at most 8 characters (8 bytes), the numeric representation should fit into 8 bytes. Which would be int64.\n",
    "\n",
    "3. Algorithm for converting strings into numbers\n",
    "    - base-256. Then..."
   ]
  },
  {
   "cell_type": "code",
   "execution_count": null,
   "metadata": {},
   "outputs": [],
   "source": []
  }
 ],
 "metadata": {
  "kernelspec": {
   "display_name": "Python (myenv)",
   "language": "python",
   "name": "myenv"
  },
  "language_info": {
   "codemirror_mode": {
    "name": "ipython",
    "version": 3
   },
   "file_extension": ".py",
   "mimetype": "text/x-python",
   "name": "python",
   "nbconvert_exporter": "python",
   "pygments_lexer": "ipython3",
   "version": "3.8.18"
  }
 },
 "nbformat": 4,
 "nbformat_minor": 2
}

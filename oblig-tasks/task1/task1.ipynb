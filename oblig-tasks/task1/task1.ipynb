{
 "cells": [
  {
   "cell_type": "markdown",
   "metadata": {},
   "source": [
    "# Obligatory task 1 INF221\n",
    "\n",
    "Student 1:\n",
    "- Name: Ivar Ødegårdstuen Eftedal\n",
    "- Email: ivar.odegardstuen.eftedal@nmbu.no\n",
    "\n",
    "Student 2:\n",
    "- Name: Frederic Ljosland Strand\n",
    "- Email: frederic.ljosland.strand@nmbu.no"
   ]
  },
  {
   "cell_type": "markdown",
   "metadata": {},
   "source": [
    "## Exercise 1 (2 points)"
   ]
  },
  {
   "cell_type": "code",
   "execution_count": 9,
   "metadata": {},
   "outputs": [
    {
     "name": "stdout",
     "output_type": "stream",
     "text": [
      "      step    j    i  key             list\n",
      "0  initial  NaN  NaN  NaN  [5, 1, 3, 4, 2]\n",
      "1      j=1  1.0 -1.0  1.0  [1, 5, 3, 4, 2]\n",
      "2      j=2  2.0  0.0  3.0  [1, 3, 5, 4, 2]\n",
      "3      j=3  3.0  1.0  4.0  [1, 3, 4, 5, 2]\n",
      "4      j=4  4.0  0.0  2.0  [1, 2, 3, 4, 5]\n"
     ]
    }
   ],
   "source": [
    "import pandas as pd\n",
    "\n",
    "A = [5, 1, 3, 4, 2]\n",
    "\n",
    "def insertion_sort_visualize(list_to_sort):\n",
    "    df = []\n",
    "    # Print initial list\n",
    "    df.append({\n",
    "        \"step\": \"initial\",\n",
    "        \"j\": None,\n",
    "        \"i\": None,\n",
    "        \"key\": None,\n",
    "        \"list\": list_to_sort.copy()\n",
    "    })\n",
    "    for j in range(1, len(list_to_sort)):\n",
    "        key = list_to_sort[j]\n",
    "        i = j - 1\n",
    "        while i >= 0 and list_to_sort[i] > key:\n",
    "            list_to_sort[i + 1] = list_to_sort[i]\n",
    "            i -= 1\n",
    "        list_to_sort[i + 1] = key\n",
    "\n",
    "        df.append({\n",
    "            \"step\": f\"j={j}\",\n",
    "            \"j\": j,\n",
    "            \"i\": i,\n",
    "            \"key\": key,\n",
    "            \"list\": list_to_sort.copy()\n",
    "        })\n",
    "\n",
    "    visualize_df = pd.DataFrame(df)\n",
    "    print(visualize_df)\n",
    "\n",
    "insertion_sort_visualize(A)\n"
   ]
  },
  {
   "cell_type": "markdown",
   "metadata": {},
   "source": [
    "# Task 2 (3 points)\n",
    "\n",
    "#### Time complexity\n",
    "\n",
    "The time complexity is dependant on the length of the list, given by `n`\n",
    "\n",
    "- Best case `O(1)`: The target is found at the first index\n",
    "\n",
    "- Average case `O(n/2)`: In theory, on average the number should be found in the middle of the list.\n",
    "\n",
    "- Worst case `O(n)`: Worst case, it will be found in the end of the list\n",
    "\n",
    "#### Pseudocode:\n",
    "\n",
    "```\n",
    "LINEAR-SEARCH(A, x)\n",
    "1. for i = 0 to length(A) - 1 do\n",
    "2.     if A[i] == x then\n",
    "3.         return i\n",
    "4. return NIL\n",
    "````\n",
    "\n",
    "\n"
   ]
  },
  {
   "cell_type": "markdown",
   "metadata": {},
   "source": [
    "## Exerice 3 (3 points)\n",
    "\n",
    "1. Why would it be useful to use numbers as sort keys, instead of strings?\n",
    "    - Faster to compare two numbers, than character by character in a string.\n",
    "    - More predictable runtime; If each string is converted into a fixed-size, comparisons become constant time `O(n)` instead of varying based on string length\n",
    "\n",
    "2. Conditions for numbers created\n",
    "    - Uniqueness\n",
    "    - The order must preserved. The key must equal the correct information.\n",
    "    - Fixed-legth representation. If each string is at most 8 characters (8 bytes), the numeric representation should fit into 8 bytes. Which would be int64.\n",
    "\n",
    "3. Algorithm for converting strings into numbers\n",
    "    - base-256. Then..."
   ]
  },
  {
   "cell_type": "code",
   "execution_count": 1,
   "metadata": {},
   "outputs": [],
   "source": [
    "def string_to_number(s):\n",
    "    result = 0\n",
    "    for i, char in enumerate(s.ljust(8, '\\0')):\n",
    "        result = result * 256 + ord(char)\n",
    "    return result"
   ]
  },
  {
   "cell_type": "markdown",
   "metadata": {},
   "source": [
    "## Exercise 4 (4 points)\n",
    "\n",
    "#### (a) Why Skiena's algorithm is correct\n",
    "\n",
    "Skiena's version of insertion sort preserves the usual loop invariant:\n",
    "after we have inserted the $j$-th element, the subarray of length $j$ is\n",
    "already sorted. Although its implementation details differ slightly from\n",
    "the algorithm given in class, the fundamental property that ``each new\n",
    "element is placed in its proper position among the sorted elements'' is\n",
    "maintained. Therefore, the algorithm is correct.\n",
    "\n",
    "#### (b) Number of operations\n",
    "\n",
    "Skiena's algorithm typically executes one extra comparison in the inner\n",
    "loop for each insertion. Hence, compared to the version discussed in class,\n",
    "it performs more comparisons (or shifts).\n",
    "\n",
    "#### (c) Why nearly twice as long\n",
    "\n",
    "Because of the additional comparison each time we move elements, the inner\n",
    "loop does extra work in each iteration. Summed over all $n$ insertions,\n",
    "these extra comparisons cause the overall sorting process to take nearly\n",
    "twice as long in practice."
   ]
  },
  {
   "cell_type": "markdown",
   "metadata": {},
   "source": [
    "## Exercise 5 (2 points)\n",
    "\n",
    "Prove that:\n",
    "$$\n",
    "(a - b)^3 \\;=\\; a^3 \\;-\\; 3a^2\\,b \\;+\\; 3a\\,b^2 \\;-\\; b^3.\n",
    "$$\n",
    "\n",
    "#### Method: Binomial Theorem\n",
    "The binomial theorem states that for any real numbers \\(x\\) and \\(y\\),\n",
    "$$\n",
    "(x+y)^3 \\;=\\; x^3 \\;+\\; 3\\,x^2\\,y \\;+\\; 3\\,x\\,y^2 \\;+\\; y^3.\n",
    "$$\n",
    "We set \\(x = a\\) and \\(y = -b\\). Then\n",
    "$$\n",
    "(a + (-b))^3 \n",
    "  \\;=\\; a^3 + 3\\,a^2(-b) + 3\\,a\\,(-b)^2 + (-b)^3.\n",
    "$$\n",
    "$$\n",
    "a^3, \\quad 3\\,a^2\\,(-b) = -3\\,a^2\\,b,\\quad\n",
    "3\\,a\\,(-b)^2 = 3\\,a\\,b^2,\\quad\n",
    "(-b)^3 = -b^3.\n",
    "$$\n",
    "$$\n",
    "(a - b)^3 \\;=\\; a^3 \\;-\\; 3a^2\\,b \\;+\\; 3a\\,b^2 \\;-\\; b^3,\n",
    "$$\n",
    "\n",
    "This gives the required result\n"
   ]
  },
  {
   "cell_type": "markdown",
   "metadata": {},
   "source": [
    "## Exercise 6 (2 points)\n",
    "\n",
    "There is no real number \\(x\\) such that\n",
    "$$\n",
    "x^2 \\;=\\; -1.\n",
    "$$\n",
    "\n",
    "Any real number \\(x\\) must be either nonnegative (\\(x \\ge 0\\)) or negative ($x < 0$. We examine these two cases:\n",
    "\n",
    " - Case 1: x > 0:\n",
    "    If $x \\ge 0$, then x^2. However, our equation $x^2 = -1$ requires $x^2$ to be strictly less than 0, which is impossible. Therefore, there is no solution with $x \\ge 0$.\n",
    "\n",
    "- Case 2: $x < 0$\n",
    "    If $x < 0$, then x^2 \\ge 0 as well (since squaring a negative real number gives a nonnegative result). Again, we need $x^2 = -1$, which is less than 0. This is impossible for $x^2 \\ge 0$. Hence, there is no solution with $x < 0$.\n",
    "\n",
    "Since neither case allows $x^2$ to be $-1$, we conclude there is no real solution to the equation\n",
    "$$\n",
    "x^2 = -1.\n",
    "$$"
   ]
  }
 ],
 "metadata": {
  "kernelspec": {
   "display_name": "Python (myenv)",
   "language": "python",
   "name": "myenv"
  },
  "language_info": {
   "codemirror_mode": {
    "name": "ipython",
    "version": 3
   },
   "file_extension": ".py",
   "mimetype": "text/x-python",
   "name": "python",
   "nbconvert_exporter": "python",
   "pygments_lexer": "ipython3",
   "version": "3.8.18"
  }
 },
 "nbformat": 4,
 "nbformat_minor": 2
}

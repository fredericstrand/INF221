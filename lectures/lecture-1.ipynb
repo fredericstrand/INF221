{
 "cells": [
  {
   "cell_type": "markdown",
   "metadata": {},
   "source": [
    "# INF221 — Lecture 1 (3 February 2025)\n",
    "#### Hans Ekkehard Plesser, NMBU / REALTEK\n",
    "\n",
    "### Note\n",
    "\n",
    "**Lectures will be recorded and recordings shared with course participants via Canvas/Panopto. Recordings happen automatically 10.15–11.00 and 11.15–12.00.**\n",
    "\n",
    "\n",
    "### Today's topics\n",
    "\n",
    "1. Motivation\n",
    "1. Practical information\n",
    "1. Course overview\n",
    "1. In-class exercise\n",
    "1. Insertion Sort—Algorithm and Correctness\n",
    "1. How to prove statements strictly\n",
    "1. Insertion Sort—Analyzing performance"
   ]
  },
  {
   "cell_type": "markdown",
   "metadata": {},
   "source": [
    "--------\n",
    "\n",
    "## 1. Motivation\n",
    "\n",
    "### There is no such thing as a free lunch (for the last 20 years ...)\n",
    "\n",
    "![Free Lunch is Over](Figures/Sutter_CPU.png)\n",
    "\n",
    "From [The Free Lunch Is Over by Herb Sutter](http://www.gotw.ca/publications/concurrency-ddj.htm)\n",
    "\n",
    "- Clock speeds do not grow any more\n",
    "    - Essentially limited by energy consumption\n",
    "    - Heat cannot be moved from chip efficiently enough\n",
    "- Memory is limited (by physics)\n",
    "    - Typical clock frequency 2 GHz $\\Longrightarrow$ cycle time 0.5 ns \n",
    "    - Speed of light: $300\\,000$ km/s\n",
    "    - $0.5 \\text{ns} \\times 300\\,000 \\text{km}/\\text{s} = 5\\cdot 10^{-10} \\text{s}\\times 3\\cdot 10^8 \\text{m}/\\text{s} = 15 \\text{cm}$\n",
    "    - Electrical signals on circuit boards travel at most at half the speed of light in vacuum\n",
    "    - Signals travel only about 10 cm during a single clock cycle\n",
    "    - Fast memory must be *very close* to the CPU\n",
    "- We need **smart algorithms** and **efficient data structures**\n",
    "- Algorithms and data structures are **essential computing technologies**\n",
    "\n",
    "### What this course is about\n",
    "- Key algorithms for e.g., sorting and searching\n",
    "- Essential data structures such as lists and trees\n",
    "- Proving the **correctness** of algorithms\n",
    "- Analysing the **performance** of algorithms and data structures\n",
    "- Benchmarking: how to measure performance (sensibly)\n",
    "- Relations between theory and (hardware) reality\n",
    "- Really hard problems (if there are any)\n",
    "\n",
    "### What is an algorithm?\n",
    "\n",
    "- A **well-defined computational procedure**\n",
    "- Takes **input**\n",
    "- Transforms it to **output**\n",
    "- It thus **solves** a **computational problem**\n",
    "\n",
    "#### Example: Sorting problem\n",
    "\n",
    "- **Input**: A sequence of $n$ numbers $\\langle a_1, a_2, \\dots, a_n\\rangle$\n",
    "- **Output**: A permutation $\\langle a'_1, a'_2, \\dots, a'_n\\rangle$ of the input sequence such that $a'_1\\leq a'_2\\leq \\dots\\leq a'_n$\n",
    "- Sample problem **instance**\n",
    "    - Input: $\\langle 31, 59, 41, 26 \\rangle$\n",
    "    - Output: $\\langle 26, 31, 41, 59 \\rangle$\n",
    "    \n",
    "\n",
    "    \n",
    "#### Typical questions\n",
    "- How can we solve the sorting problem by computer?\n",
    "- When can we apply the sorting method?\n",
    "- Correctness\n",
    "    - Can we be sure that no data gets lost?\n",
    "    - Can we be sure that algorithm will always **terminate**?\n",
    "    - Can we be sure that data is properly sorted?\n",
    "- Performance\n",
    "    - How long does it take?\n",
    "    - What if $n$ doubles, increase 10-, 1000-, million-fold?\n",
    "    - What if data is, e.g., sorted before we start?\n",
    "    - How much memory will be required?\n",
    "    \n",
    "#### In-class problem\n",
    "\n",
    "- Can you think of data that can not be sorted (without additional information)?"
   ]
  },
  {
   "cell_type": "markdown",
   "metadata": {},
   "source": [
    "------------\n",
    "\n",
    "## 2. Practical information\n",
    "\n",
    "### Basics\n",
    "\n",
    "- Teacher\n",
    "    - Hans Ekkehard Plesser (hans.ekkehard.plesser@nmbu.no)\n",
    "- Lectures\n",
    "    - Mondays 10-12 CET/CEST\n",
    "    - Lecture 24 March and one extra lecture will be pre-recorded\n",
    "- Lab\n",
    "    - Wednesdays 14-16 & 16-18 in U305\n",
    "        - Every other week starting 5 February until Easter\n",
    "        - Every week after Easter\n",
    "        - Lab sessions 5 February\n",
    "            - Do hands-on exercises in class\n",
    "            - Find a partner for work on assignments\n",
    "    - TA: Katarzyna Haland\n",
    "    \n",
    "### Textbook and material\n",
    "\n",
    "- Textbook\n",
    "    - Steven Skiena. *The Algorithm Design Manual*, 3rd edition, Springer, 2020\n",
    "        - Website for book: https://www.algorist.com\n",
    "        - **Note:** I will *not* strictly follow Skiena's book, but you will find most topics covered there\n",
    "    - Alternative: Cormen, Leiserson, Rivest, Stein (CLRS). *Introduction to Algorithms*, 3rd/4th edition, MIT Press, 2009/2022\n",
    "- Course material\n",
    "    - Posted in Canvas room for INF221\n",
    "    - Mostly as Jupyter Notebooks\n",
    "    \n",
    "### Prerequisites\n",
    "\n",
    "- Calculus I (e.g. MATH111/MATH121)\n",
    "- Programming I (e.g. INF120)\n",
    "- If you have learned programming in another language than Python or want to refresh your Python, I suggest\n",
    " [Jake Vanderplas' Whirlwind Tour of Python](https://github.com/jakevdp/WhirlwindTourOfPython)."
   ]
  },
  {
   "cell_type": "markdown",
   "metadata": {},
   "source": [
    "----------\n",
    "\n",
    "## 3. Course overview\n",
    "\n",
    "**Course contents is subject to adjustments!**\n",
    "\n",
    "1. Introduction\n",
    "    1. Introduction\n",
    "    1. Insertion sort\n",
    "    1. Analyzing algorithms\n",
    "    1. Designing algorithms / merge sort\n",
    "1. Mathematical basics   \n",
    "    1. Growth of functions\n",
    "1. Divide & Conquer\n",
    "    1. Maximum-subarray problem\n",
    "    1. Solving recurrences\n",
    "1. Probabilistic methods\n",
    "    1. Randomized algorithms\n",
    "1. Sorting\n",
    "    1. Heaps\n",
    "    1. Heapsort\n",
    "    1. Priority queues\n",
    "    1. Quicksort\n",
    "1. Data structures\n",
    "    1. Stacks & queues\n",
    "    1. Linked lists\n",
    "    1. Hash tables\n",
    "1. Trees\n",
    "    1. Basics of trees\n",
    "    1. Binary search trees\n",
    "1. Some algorithms\n",
    "    1. Rod cutting/dynamic programming\n",
    "    1. Greedy algorithms\n",
    "    1. Huffman codes\n",
    "1. Graphs\n",
    "    1. Graph basics\n",
    "    1. Elementary graph algorithms\n",
    "    1. Shortest-path algorithms\n",
    "1. Limits of computability"
   ]
  },
  {
   "cell_type": "markdown",
   "metadata": {},
   "source": [
    "-----------\n",
    "\n",
    "## 4. In-class exercise\n",
    "\n",
    "Create an algorithm to find the smallest entry in a list of items.\n",
    "\n",
    "1. Define the problem precisely\n",
    "2. Sketch an algorithm in pseudocode\n",
    "3. Carefully check your algorithm: Will it work correctly in all cases?\n",
    "4. Analyse runtime: For a list of $N$ elements, how many steps will your algorithm need?\n",
    "5. Implement your algorithm in Python!"
   ]
  },
  {
   "cell_type": "markdown",
   "metadata": {},
   "source": [
    "- **Input**: A sequence of $n$ elements $\\langle a_1, a_2, \\dots, a_n\\rangle$ for which a strict ordering is defined (i.e., $a_i < a_j$ is defined for all $1 \\leq i, j \\leq n$).\n",
    "- **Output**: $a_i$ such that $a_i \\leq a_k$ for all $1\\leq k \\leq n$ for $n\\geq 1$, otherwise NIL.\n"
   ]
  },
  {
   "cell_type": "code",
   "execution_count": 1,
   "metadata": {},
   "outputs": [],
   "source": [
    "def find_smallest_num_in_list(data):\n",
    "    value = data[0]\n",
    "    for val in data[1:]:\n",
    "        if val < value: \n",
    "            value = val\n",
    "    return value"
   ]
  },
  {
   "cell_type": "code",
   "execution_count": 2,
   "metadata": {},
   "outputs": [
    {
     "data": {
      "text/plain": [
       "1"
      ]
     },
     "execution_count": 2,
     "metadata": {},
     "output_type": "execute_result"
    }
   ],
   "source": [
    "find_smallest_num_in_list([2, 4, 1, 7])"
   ]
  },
  {
   "cell_type": "code",
   "execution_count": 3,
   "metadata": {},
   "outputs": [
    {
     "data": {
      "text/plain": [
       "'abc'"
      ]
     },
     "execution_count": 3,
     "metadata": {},
     "output_type": "execute_result"
    }
   ],
   "source": [
    "find_smallest_num_in_list(['abc', 'def'])"
   ]
  },
  {
   "cell_type": "code",
   "execution_count": 4,
   "metadata": {},
   "outputs": [
    {
     "ename": "TypeError",
     "evalue": "'<' not supported between instances of 'complex' and 'complex'",
     "output_type": "error",
     "traceback": [
      "\u001b[0;31m---------------------------------------------------------------------------\u001b[0m",
      "\u001b[0;31mTypeError\u001b[0m                                 Traceback (most recent call last)",
      "Cell \u001b[0;32mIn[4], line 1\u001b[0m\n\u001b[0;32m----> 1\u001b[0m \u001b[43mfind_smallest_num_in_list\u001b[49m\u001b[43m(\u001b[49m\u001b[43m[\u001b[49m\u001b[38;5;241;43m1\u001b[39;49m\u001b[38;5;241;43m+\u001b[39;49m\u001b[38;5;241;43m1\u001b[39;49m\u001b[43mj\u001b[49m\u001b[43m,\u001b[49m\u001b[43m \u001b[49m\u001b[38;5;241;43m1\u001b[39;49m\u001b[38;5;241;43m-\u001b[39;49m\u001b[38;5;241;43m1\u001b[39;49m\u001b[43mj\u001b[49m\u001b[43m]\u001b[49m\u001b[43m)\u001b[49m\n",
      "Cell \u001b[0;32mIn[1], line 4\u001b[0m, in \u001b[0;36mfind_smallest_num_in_list\u001b[0;34m(data)\u001b[0m\n\u001b[1;32m      2\u001b[0m value \u001b[38;5;241m=\u001b[39m data[\u001b[38;5;241m0\u001b[39m]\n\u001b[1;32m      3\u001b[0m \u001b[38;5;28;01mfor\u001b[39;00m val \u001b[38;5;129;01min\u001b[39;00m data[\u001b[38;5;241m1\u001b[39m:]:\n\u001b[0;32m----> 4\u001b[0m     \u001b[38;5;28;01mif\u001b[39;00m \u001b[43mval\u001b[49m\u001b[43m \u001b[49m\u001b[38;5;241;43m<\u001b[39;49m\u001b[43m \u001b[49m\u001b[43mvalue\u001b[49m: \n\u001b[1;32m      5\u001b[0m         value \u001b[38;5;241m=\u001b[39m val\n\u001b[1;32m      6\u001b[0m \u001b[38;5;28;01mreturn\u001b[39;00m value\n",
      "\u001b[0;31mTypeError\u001b[0m: '<' not supported between instances of 'complex' and 'complex'"
     ]
    }
   ],
   "source": [
    "find_smallest_num_in_list([1+1j, 1-1j])"
   ]
  },
  {
   "cell_type": "code",
   "execution_count": null,
   "metadata": {},
   "outputs": [
    {
     "ename": "IndexError",
     "evalue": "list index out of range",
     "output_type": "error",
     "traceback": [
      "\u001b[0;31m---------------------------------------------------------------------------\u001b[0m",
      "\u001b[0;31mIndexError\u001b[0m                                Traceback (most recent call last)",
      "Cell \u001b[0;32mIn[5], line 1\u001b[0m\n\u001b[0;32m----> 1\u001b[0m \u001b[43mfind_smallest_num_in_list\u001b[49m\u001b[43m(\u001b[49m\u001b[43m[\u001b[49m\u001b[43m]\u001b[49m\u001b[43m)\u001b[49m\n",
      "Cell \u001b[0;32mIn[1], line 2\u001b[0m, in \u001b[0;36mfind_smallest_num_in_list\u001b[0;34m(data)\u001b[0m\n\u001b[1;32m      1\u001b[0m \u001b[38;5;28;01mdef\u001b[39;00m\u001b[38;5;250m \u001b[39m\u001b[38;5;21mfind_smallest_num_in_list\u001b[39m(data):\n\u001b[0;32m----> 2\u001b[0m     value \u001b[38;5;241m=\u001b[39m \u001b[43mdata\u001b[49m\u001b[43m[\u001b[49m\u001b[38;5;241;43m0\u001b[39;49m\u001b[43m]\u001b[49m\n\u001b[1;32m      3\u001b[0m     \u001b[38;5;28;01mfor\u001b[39;00m val \u001b[38;5;129;01min\u001b[39;00m data[\u001b[38;5;241m1\u001b[39m:]:\n\u001b[1;32m      4\u001b[0m         \u001b[38;5;28;01mif\u001b[39;00m val \u001b[38;5;241m<\u001b[39m value: \n",
      "\u001b[0;31mIndexError\u001b[0m: list index out of range"
     ]
    }
   ],
   "source": [
    "find_smallest_num_in_list([])"
   ]
  },
  {
   "cell_type": "markdown",
   "metadata": {},
   "source": [
    "-----------\n",
    "\n",
    "## 5. Insertion Sort—Algorithm and Correctness\n",
    "\n",
    "See Skiena Ch. 1 and Ch. 2.5.2 or CLRS3 Ch 2.1\n",
    "\n",
    "### The Sorting Problem\n",
    "\n",
    "- **Input**: A sequence of $n$ numbers $\\langle a_1, a_2, \\dots, a_n\\rangle$\n",
    "- **Output**: A permutation $\\langle a'_1, a'_2, \\dots, a'_n\\rangle$ of the input sequence such that $a'_1\\leq a'_2\\leq \\dots\\leq a'_n$\n",
    "- Note: The $a_j$ are sorting **keys**\n",
    "    - we will usually use numbers in examples\n",
    "    - could be strings, etc, as long as they are ordered\n",
    "    - often, we use one feature of a data set as key, e.g., sorting student lists by last name\n",
    "\n",
    "#### Keys: an example\n",
    "\n",
    "First name | Last name | Study program | Birthday | Age | Grade\n",
    "-- | -- | -- | -- | -- | -- \n",
    "Joe | Doe | Physics | 25/10 | 23 | C\n",
    "Jane | Dane | Chemistry | 08/12 | 22 | B\n",
    "Alice | Myer | English | 02/02 | 21 | A\n",
    "James | Able | Physics | 23/05 | 22 | B\n",
    "\n",
    "- Each column can be chosen sorting key"
   ]
  },
  {
   "attachments": {},
   "cell_type": "markdown",
   "metadata": {},
   "source": [
    "    \n",
    "### The Insertion Sort Algorithm\n",
    "\n",
    "#### Basic idea\n",
    "\n",
    "1. Take one card/number/name/... that has not been sorted yet\n",
    "1. Insert in correct place among cards/numbers/names/... that have been sorted already\n",
    "1. Repeat until no unsorted item left\n",
    "\n",
    "Extra challenge: Do so **in place**, without requiring extra storage\n",
    "\n",
    "#### Pseudocode\n",
    "\n",
    "```\n",
    "1:  InsertionSort(A)\n",
    "2:  for j = 2 to A.length\n",
    "3:      key = A[j]\n",
    "4:      i = j - 1\n",
    "5:      while i > 0 and A[i] > key\n",
    "6:          A[i + 1] = A[i]\n",
    "7:          i = i - 1\n",
    "8:      A[i + 1] = key\n",
    "```\n",
    "\n",
    "#### Notes\n",
    "\n",
    "- Array indices run from 1 in pseudocode (but from 0 in Python)\n",
    "- Algorithm manipulates content of array `A` "
   ]
  },
  {
   "cell_type": "markdown",
   "metadata": {},
   "source": [
    "#### Python implementation"
   ]
  },
  {
   "cell_type": "code",
   "execution_count": null,
   "metadata": {},
   "outputs": [],
   "source": [
    "def insertion_sort(A):\n",
    "    for j in range(1, len(A)):\n",
    "        key = A[j]\n",
    "        i = j - 1\n",
    "        while i >= 0 and A[i] > key:\n",
    "            A[i + 1] = A[i]\n",
    "            i = i - 1\n",
    "        A[i + 1] = key"
   ]
  },
  {
   "cell_type": "code",
   "execution_count": null,
   "metadata": {},
   "outputs": [
    {
     "name": "stdout",
     "output_type": "stream",
     "text": [
      "[1, 2, 3, 4, 5]\n"
     ]
    }
   ],
   "source": [
    "a = [5, 1, 3, 4, 2]\n",
    "insertion_sort(a)\n",
    "print(a)"
   ]
  },
  {
   "cell_type": "code",
   "execution_count": null,
   "metadata": {},
   "outputs": [
    {
     "name": "stdout",
     "output_type": "stream",
     "text": [
      "['ab', 'def', 'ghi', 'xyz']\n"
     ]
    }
   ],
   "source": [
    "b = ['def', 'ab', 'xyz', 'ghi']\n",
    "insertion_sort(b)\n",
    "print(b)"
   ]
  },
  {
   "cell_type": "markdown",
   "metadata": {},
   "source": [
    "##### Execute in Online Python Tutor\n",
    "\n",
    "- See http://pythontutor.com\n",
    "- [Run insertion sort in Python Tutor](http://pythontutor.com/visualize.html#code=def%20insertion_sort%28A%29%3A%0A%20%20%20%20for%20j%20in%20range%281,%20len%28A%29%29%3A%0A%20%20%20%20%20%20%20%20key%20%3D%20A%5Bj%5D%0A%20%20%20%20%20%20%20%20i%20%3D%20j%20-%201%0A%20%20%20%20%20%20%20%20while%20i%20%3E%3D%200%20and%20A%5Bi%5D%20%3E%20key%3A%0A%20%20%20%20%20%20%20%20%20%20%20%20A%5Bi%20%2B%201%5D%20%3D%20A%5Bi%5D%0A%20%20%20%20%20%20%20%20%20%20%20%20i%20%3D%20i%20-%201%0A%20%20%20%20%20%20%20%20A%5Bi%20%2B%201%5D%20%3D%20key%0A%20%20%20%20%20%20%20%20%0Aa%20%3D%20%5B4,%203,%201,%202%5D%0Ainsertion_sort%28a%29%0A&cumulative=false&curInstr=0&heapPrimitives=nevernest&mode=display&origin=opt-frontend.js&py=3&rawInputLstJSON=%5B%5D&textReferences=false)"
   ]
  },
  {
   "cell_type": "markdown",
   "metadata": {},
   "source": [
    "### Proof of correctness\n",
    "\n",
    "We need to prove that **for any (valid) input**\n",
    "\n",
    "1. the algorithm terminates\n",
    "1. the output contains exactly the same keys as the input\n",
    "1. the output contains keys in sorted order\n",
    "\n",
    "See (in much shorter form) in Skiena, Ch 1.4.\n",
    "\n",
    "#### What are valid inputs?\n",
    "\n",
    "- Any array with the following properties\n",
    "    - The array is *mutable*, i.e., the algorithm can change elements in the array and this change will be visible to the caller of the algorithm when it completes (counterexample: Python `tuple`)\n",
    "    - Comparison `<` is defined for any pair of array elements\n",
    "- An empty array is a valid input\n",
    "\n",
    "#### Loop invariants\n",
    "\n",
    "- Key technique for proving statements about algorithms\n",
    "- Precise statement about the status of data at a certain time during execution\n",
    "- Prove algorithm correctness using *induction* in three steps:\n",
    "    - **Initialization:** The invariant is true before the first iteration of the loop\n",
    "    - **Maintenance:** If the invariant is true before any given iteration of the loop, it is true also before the next iteration\n",
    "    - **Termination:** When the loop terminates, the invariant provides information about the state of the data which helps us to show that the algorithm is correct (did the right thing)\n",
    "\n",
    "#### Loop invariant for `InsertionSort`\n",
    "\n",
    "```\n",
    "1:  InsertionSort(A)\n",
    "2:  for j = 2 to A.length\n",
    "3:      key = A[j]\n",
    "4:      i = j - 1\n",
    "5:      while i > 0 and A[i] > key\n",
    "6:          A[i + 1] = A[i]\n",
    "7:          i = i - 1\n",
    "8:      A[i + 1] = key\n",
    "```\n",
    "\n",
    "##### Invariant\n",
    "At the start of each iteration of the for loop of lines 2–8, the subarray `A[1..j-1]` consists of the elements originally in `A[1..j-1]`, but in sorted order.\n",
    "\n",
    "##### Proof\n",
    "\n",
    "###### Initialization\n",
    "- Before first iteration: `j == 2`\n",
    "- Therefore `A[1..j-1]` is `A[1..1]`, i.e., `A[1]`\n",
    "- We have not changed anything in `A` yet, so `A[1]` contains the same elements as it contained originally\n",
    "- Since `A[1]` contains only a single element, it is in sorted order\n",
    "- Thus, the invariant holds before the first iteration\n",
    "\n",
    "###### Maintenance\n",
    "- We assume that the invariant holds for `j == J`, i.e., that `A[1..J-1]` contains the elements originally in `A[1..J-1]` in sorted order\n",
    "- We now execute the for loop for `j == J`\n",
    "- We need to show that afterwards, `A[1..J]` contains the elements originally in `A[1..J]` in sorted order\n",
    "- Proof\n",
    "    1. On line 3, we store `A[J]` in `key`\n",
    "    2. On line 4, we initialize `i = j-1 = J-1`\n",
    "    3. The while-loop on lines 5–7 moves elements to the right\n",
    "        - It only moves elements one position to the right\n",
    "        - The rightmost element that is assigned a new value is element `A[J]` (for `i == J-1`)\n",
    "        - The order of elements is not changed\n",
    "        - The while-loop stops either\n",
    "            - if we have copied all elements (`i == 0`) and\n",
    "                - `A[2..J]` now contains the same elements that were in `A[1..J-1]` before we entered the while loop and we know that all ofh them are larger than `key`\n",
    "                - We store `key` into `A[i+1]`, i.e., `A[1]` on line 8\n",
    "            - or if the element at `i` is not larger than `key` and\n",
    "                - `A[i+2..J]` now contains the same elements that were previously in `A[i+1..J-1]` and these are all larger than `key`\n",
    "                - `A[1..i]` is unchanged from the previous iteration, i.e., sorted, and its largest element `A[i]` is not larger than `key`\n",
    "                - We store `key` into `A[i+1]` on line 8\n",
    "    5. Thus:\n",
    "        - All elements in `A[1..i]` are sorted (by assumption) and are not larger than `key`. This holds because we did not touch them in the while loop.\n",
    "        - All the elements in `A[i+2..J]` \n",
    "            - are larger than `key`\n",
    "            - are the same as previously in `A[i+1..J-1]`\n",
    "            - are sorted (by assumption, because we move every element that we touch in the while loop one position to the right)\n",
    "        - Since we know that `A[i] ≤ key < A[i+2]` and `A[i+1] == key`, we know that the elements in `A[1..J]` are the same as before and sorted\n",
    "\n",
    "###### Termination\n",
    "- Let `n == A.length` be the number of keys to be sorted\n",
    "- After the last iteration, we have `j == n+1`\n",
    "- Thus, the invariant reads: At the start of each iteration of the for loop of lines 2–8, the subarray `A[1..n]` consists of the elements originally in `A[1..n]`, but in sorted order.\n",
    "- This is precisely what we want: The array contains the original data in sorted order"
   ]
  },
  {
   "cell_type": "markdown",
   "metadata": {},
   "source": [
    "### In-class problems\n",
    "\n",
    "1. What happens if `A` is empty or has only one element?\n",
    "2. What happens if `A` is sorted from before?\n",
    "3. What happens if we change `A[i] > key` to `A[i] >= key` on line 5?"
   ]
  },
  {
   "cell_type": "markdown",
   "metadata": {},
   "source": [
    "-------------\n",
    "\n",
    "## 6. How to prove statements strictly?\n",
    "\n",
    "We will look at a few techniques from mathematics for proving statements. We will later apply these techniques to algorithms.\n",
    "\n",
    "- See Skiena, Ch. 1\n",
    "- For an overview over further proof techniques, see [*Wikipedia* \"Mathematical Proof\"](https://en.wikipedia.org/wiki/Mathematical_proof). \n",
    "- If you are interested in how to construct the mathematics of real numbers (i.e., real analysis from basic axioms through rigorous proofs, consider to take [MATH290](https://www.nmbu.no/course/math290).\n",
    "- For a humorous introduction into the conundrums mathematicians encountered in the construction of mathematics, see [Logicomix](https://en.wikipedia.org/wiki/Logicomix). \n",
    "- For a more thorough, but still non-specialist introduction, read [Gödel, Escher, Bach](https://en.wikipedia.org/wiki/Gödel,_Escher,_Bach)\n",
    "\n",
    "| | |\n",
    "|-|-|\n",
    "|![Logicomix Title](Figures/Logicomix_cover.jpg)|![GEB Title](Figures/GEB_Title.jpg)|"
   ]
  },
  {
   "cell_type": "markdown",
   "metadata": {},
   "source": [
    "### Direct proof\n",
    "\n",
    "In a direct proof, we prove a proposition by applying a sequence of elementary operations. Each operation must be based either on an *axiom* that we define to be true, or a proposition that we have proven already.\n",
    "\n",
    "We consider below and example in which we will use the following [axioms that are true for the real numbers](https://en.wikipedia.org/wiki/Construction_of_the_real_numbers) (usually denoted as $\\mathbb{R}$):\n",
    "\n",
    "##### Associativity of addition (AA)\n",
    " $$a + (b + c) = (a + b) +  c$$\n",
    "\n",
    "##### Associativity of multiplication (AM)\n",
    " $$a  (b c) = (a  b)  c$$\n",
    "\n",
    "##### Commutativity of addition (CA)\n",
    " $$a + b = b + a$$ \n",
    " \n",
    "##### Commutativity of multiplication (CM)\n",
    "$$a b = b a$$ \n",
    "\n",
    "##### Distributivity (D)\n",
    "$$a (b+c) = ab + ac$$\n",
    "\n",
    "**Note:** For an example in which, e.g., commutativity of multiplication does not hold, consider matrix multiplication:\n",
    "\n",
    "$$\n",
    "\\begin{pmatrix}\n",
    "1 & 0 \\\\ 1 & 1 \n",
    "\\end{pmatrix}\n",
    "\\times\n",
    "\\begin{pmatrix}\n",
    "0 & 1 \\\\ 1 & 0\n",
    "\\end{pmatrix}\n",
    "=\n",
    "\\begin{pmatrix}\n",
    "0 & 1 \\\\ 1 & 1 \n",
    "\\end{pmatrix}\n",
    "\\neq\n",
    "\\begin{pmatrix}\n",
    "1 & 1 \\\\ 1 & 0\n",
    "\\end{pmatrix}\n",
    "=\n",
    "\\begin{pmatrix}\n",
    "0 & 1 \\\\ 1 & 0\n",
    "\\end{pmatrix}\n",
    "\\times\n",
    "\\begin{pmatrix}\n",
    "1 & 0 \\\\ 1 & 1 \n",
    "\\end{pmatrix}\n",
    "$$\n"
   ]
  },
  {
   "cell_type": "markdown",
   "metadata": {},
   "source": [
    "#### Example\n",
    "\n",
    "##### Proposition\n",
    "For all $a, b\\in \\mathbb{R}$, the following holds:\n",
    "$$(a + b)^2 = a^2 + 2 a b + b^2\\;.$$\n",
    "\n",
    "##### Proof\n",
    "\n",
    "\\begin{align}\n",
    "(a+b)^2 &= (a+b)(a+b) && \\text{definition of power}\\\\\n",
    "        &= (a+b)a + (a+b)b && \\text{D}\\\\\n",
    "        &= a(a+b) + b(a+b) && \\text{CM}\\\\\n",
    "        &= a^2 + ab + ba + b^2 && \\text{D}\\\\\n",
    "        &= a^2 + ab + ab + b^2 && \\text{CM}\\\\\n",
    "        &= a^2 + 2ab + b^2 && \\text{qed}\n",
    "\\end{align}"
   ]
  },
  {
   "cell_type": "markdown",
   "metadata": {},
   "source": [
    "### Proof by contradiction\n",
    "\n",
    "We begin by making a certain assumption. If we can then show that this assumption in all possible cases will lead to two statements contradicting each other, we conclude that the assumption must be wrong. If we want to prove that a certain proposition is true, we typically assume the opposite; if that leads to a contradiction, we can conclude that the original proposition is true.\n",
    "\n",
    "#### Example\n",
    "\n",
    "##### Proposition\n",
    "There is no rational number $x$, i.e., no $x=\\frac{p}{q}$ with $p, q\\in\\mathbb{N}$, such that $x^2=2$. \n",
    "\n",
    "More colloquially: $\\sqrt{2}$ is not a rational number, i.e., it cannot be expressed as a fraction of two natural numbers.\n",
    "\n",
    "##### Proof\n",
    "Assumption: There is a rational number $x$ such that $x^2=2$. \n",
    "\n",
    "The assumption implies that there are $p, q\\in\\mathbb{N}$ such that $x=p/q$. We can further assume that $p$ and $q$ are the smallest such numbers, i.e., that all common factors have been divided out. \n",
    "\n",
    "We then have\n",
    "$$x^2 = \\left(\\frac{p}{q}\\right)^2=\\frac{p^2}{q^2}=2 \\Longleftrightarrow p^2=2q^2\\;.$$\n",
    "This means that $p^2$ is even, and therefore that $p$ is even. We can therefore write $p=2s$ for some $s\\in\\mathbb{N}$. Then we have\n",
    "$$p^2=(2s)^2=4s^2=2q^2 \\Longleftrightarrow 2s^2 = q^2\\;.$$\n",
    "Thus, also $q^2$ and therefore $q$ is even and we can write $q=2t$ for some $t\\in\\mathbb{N}$.\n",
    "\n",
    "This means that we have\n",
    "$$x = \\frac{p}{q} = \\frac{2s}{2t}$$\n",
    "which contradicts our assumption that $p$ and $q$ are the smallest numbers in $\\mathbb{N}$ with $x^2=p^2/q^2=2$.\n",
    "\n",
    "We must therefore conclude that our assumption cannot hold and that $\\sqrt{2}$ is not a rational number."
   ]
  },
  {
   "cell_type": "markdown",
   "metadata": {},
   "source": [
    "#### In-class exercise\n",
    "\n",
    "In the proof above, we used that $p^2$ even implies $p$ even for all $p\\in\\mathbb{N}$. Prove this proposition!"
   ]
  },
  {
   "cell_type": "markdown",
   "metadata": {},
   "source": [
    "### Proof by induction\n",
    "\n",
    "This type of proof is used often when proving the correctness of algorithms. Inductive proofs can only be used for propositions that can be enumerated, and that have a definite \"smallest\" case: We have a proposition for $n=1$, $n=2$, $n=3$, $\\dots$, which we can call $P(1)$, $P(2)$, $\\dots$, $P(n)$, $\\dots$.\n",
    "\n",
    "We then prove the proposition first for the *base case*, usually $P(1)$. We then *assume* that $P(2), P(3), \\dots, P(n)$ all hold and prove that $P(n+1)$ also holds under this assumption. Thus we have proven the proposition for all $n$.\n",
    "\n",
    "#### Example\n",
    "\n",
    "##### Proposition\n",
    "\n",
    "$$\\sum_{k=1}^n k = \\frac{n(n+1)}{2}$$\n",
    "\n",
    "This is the general form $P(n)$ of the proposition.\n",
    "\n",
    "##### Proof\n",
    "\n",
    "###### Base case\n",
    "\n",
    "The base case is \n",
    "\n",
    "\\begin{align}\n",
    " P(1):\\qquad \\sum_{k=1}^1 k &= \\frac{1(1+1)}{2} \\\\\n",
    "\\Longleftrightarrow\\qquad 1 &= \\frac{2}{2} = 1\n",
    "\\end{align}\n",
    "\n",
    "We have thus proven the base case.\n",
    "\n",
    "###### Induction step\n",
    "\n",
    "We have proven that $P(1)$ holds and assume that $P(2), P(3), \\dots, P(n)$ all hold. We especially assume that for any $n$ we choose\n",
    "$$P(n):\\qquad \\sum_{k=1}^n k = \\frac{n(n+1)}{2}$$\n",
    "holds. We now need to show that the proposition holds for $n+1$, i.e., that\n",
    "$$P(n+1):\\qquad \\sum_{k=1}^{n+1} k = \\frac{(n+1)(n+2)}{2}$$\n",
    "is true.\n",
    "\n",
    "We have\n",
    "\\begin{align}\n",
    "\\sum_{k=1}^{n+1} k &= \\left[\\sum_{k=1}^{n} k \\right] + (n+1) \\\\\n",
    "   &=  \\frac{n(n+1)}{2} + (n+1) && \\text{used}\\;P(n)\\\\ \n",
    "   &=  \\frac{n(n+1)}{2} + \\frac{2(n+1)}{2} \\\\\n",
    "   &=  \\frac{n(n+1)+2(n+1)}{2}\\\\\n",
    "   &=  \\frac{(n+2)(n+1)}{2} && \\text{qed.}\n",
    "\\end{align}"
   ]
  },
  {
   "cell_type": "markdown",
   "metadata": {},
   "source": [
    "-----------------\n",
    "\n",
    "## 7. Insertion Sort—Analyzing performance\n",
    "\n",
    "- Skiena Ch 2\n",
    "- Performance is essential if programs are to be useful\n",
    "- We need to assess performance theoretically (paper and pencil) and empirically (benchmarks)\n",
    "- Key question: how does **running time** depend on **input size**\n",
    "- Basic assumptions in algorithm analysis: \n",
    "    - All operations require approximately the same time\n",
    "    - The number of operations is essential\n",
    "\n",
    "### Analysis of Insertion Sort\n",
    "\n",
    "Line |Statement | Cost | Number of executions | .........................................\n",
    "-- |:-- | :-- | :-- | :---------\n",
    "2|  $\\texttt{for j = 2 to A.length}$ | $c_2$ | $n$ |\n",
    "3|  $\\quad\\texttt{key = A[j]}$ | $c_3$ | $n-1$ |\n",
    "4|  $\\quad\\texttt{i = j - 1}$ | $c_4$ | $n-1$ |\n",
    "5|  $\\quad\\texttt{while i > 0 and A[i] > key}$ | $c_5$ | ${\\sum_{j=2}^n t_j}$ |\n",
    "6|  $\\qquad\\texttt{A[i + 1] = A[i]}$ | $c_6$ | ${\\sum_{j=2}^n {(t_j-1)}}$ |\n",
    "7|  $\\qquad\\texttt{i = i - 1}$ | $c_7$ | ${\\sum_{j=2}^n (t_j-1)}$ |\n",
    "8|  $\\quad\\texttt{A[i + 1] = key}$ | $c_8$ | $n-1$ |\n",
    "\n",
    "where\n",
    "\n",
    "- $n = $ `A.length`\n",
    "- $t_j$ is number of times the `while`-loop test is performed for given `j`"
   ]
  },
  {
   "cell_type": "markdown",
   "metadata": {},
   "source": [
    "The total runtime is then\n",
    "\n",
    "\\begin{align}\n",
    "T(n) &= c_2 n + c_3(n-1) + c_4(n-1) + c_5 \\sum_{j=2}^n t_j + c_6 \\sum_{j=2}^n (t_j-1) + c_7 \\sum_{j=2}^n (t_j-1) + c_8 (n-1) \\\\\n",
    "&= c_2 n + (c_3 + c_4 + c_8) (n-1) + (c_5 +c_6+c_7) \\sum_{j=2}^n t_j - (c_6+c_7)(n-1) \\\\\n",
    "&= c_2 n + (c_3 + c_4 +c_8-c_6-c_7)(n-1) + (c_5 +c_6+c_7) \\sum_{j=2}^n t_j \\\\\n",
    "&= (c_5 +c_6+c_7) \\sum_{j=2}^n t_j + (c_2+c_3+c_4+c_8-c_6-c_7) n - (c_3 + c_4 +c_8-c_6-c_7) \\\\\n",
    "&= A \\sum_{j=2}^n t_j + B n + C\n",
    "\\end{align}\n",
    "\n",
    "- What is $t_j$?\n",
    "\n",
    "#### Best case\n",
    "- We never enter the while loop: $t_j = 1$ for all $j$\n",
    "- True if data is already sorted\n",
    "- Then we have\n",
    "\\begin{equation}\n",
    "T(n) = A \\sum_{j=2}^n 1 + Bn +C = A(n-1) + Bn + C = (A+B) n + (C-A)\n",
    "\\end{equation}\n",
    "- Running time is **linear** in $n$\n",
    "- Considering only the term of highest order in $n$, we can express this as\n",
    "$$T(n) = \\Theta(n)$$\n",
    "\n",
    "#### Worst case\n",
    "- We have to run through the loop until `i==0` for each $j$\n",
    "- True if data are in reverse order\n",
    "- Then $t_j = j$\n",
    "- Then we have\n",
    "\\begin{equation}\n",
    "T(n) = A \\sum_{j=2}^n j + Bn +C = A\\left(\\frac{n(n+1)}{2}-1\\right) + Bn + C = \\frac{A}{2}n^2 + \\left(\\frac{A}{2}+B\\right) n + (C-A)\n",
    "\\end{equation}\n",
    "- Running time is **quadratic** in $n$\n",
    "- We can express this as $$T(n)=\\Theta(n^2)$$\n",
    "\n",
    "#### Average case\n",
    "- What does \"average\" mean?\n",
    "- Assume here: need to run half-way through while-loop\n",
    "- Then $t_j = j/2$\n",
    "- Quadratic running-time dependence as for worst case, but with $A/4$ instead of $A/2$\n",
    "- In this case, we also have $$T(n)=\\Theta(n^2)$$\n",
    "\n",
    "For insertion sort, the average case essentially behaves like the worst case."
   ]
  },
  {
   "cell_type": "markdown",
   "metadata": {},
   "source": [
    "### Benchmarks\n",
    "\n",
    "- Let us test the theory by performing simulation experiments"
   ]
  },
  {
   "cell_type": "code",
   "execution_count": null,
   "metadata": {},
   "outputs": [],
   "source": [
    "def insertion_sort(A):\n",
    "    for j in range(1, len(A)):\n",
    "        key = A[j]\n",
    "        i = j - 1\n",
    "        while i >= 0 and A[i] > key:\n",
    "            A[i + 1] = A[i]\n",
    "            i = i - 1\n",
    "        A[i + 1] = key"
   ]
  },
  {
   "cell_type": "markdown",
   "metadata": {},
   "source": [
    "#### Best case"
   ]
  },
  {
   "cell_type": "code",
   "execution_count": null,
   "metadata": {},
   "outputs": [
    {
     "name": "stdout",
     "output_type": "stream",
     "text": [
      "2.94 μs ± 67.4 ns per loop (mean ± std. dev. of 7 runs, 100,000 loops each)\n"
     ]
    }
   ],
   "source": [
    "%timeit insertion_sort(list(range(100)))"
   ]
  },
  {
   "cell_type": "code",
   "execution_count": null,
   "metadata": {},
   "outputs": [
    {
     "name": "stdout",
     "output_type": "stream",
     "text": [
      "45.1 μs ± 626 ns per loop (mean ± std. dev. of 7 runs, 10,000 loops each)\n"
     ]
    }
   ],
   "source": [
    "%timeit insertion_sort(list(range(1000)))"
   ]
  },
  {
   "cell_type": "code",
   "execution_count": null,
   "metadata": {},
   "outputs": [
    {
     "name": "stdout",
     "output_type": "stream",
     "text": [
      "517 μs ± 5.51 μs per loop (mean ± std. dev. of 7 runs, 1,000 loops each)\n"
     ]
    }
   ],
   "source": [
    "%timeit insertion_sort(list(range(10000)))"
   ]
  },
  {
   "cell_type": "code",
   "execution_count": null,
   "metadata": {},
   "outputs": [
    {
     "name": "stdout",
     "output_type": "stream",
     "text": [
      "5.35 ms ± 96.8 μs per loop (mean ± std. dev. of 7 runs, 100 loops each)\n"
     ]
    }
   ],
   "source": [
    "%timeit insertion_sort(list(range(100000)))"
   ]
  },
  {
   "cell_type": "code",
   "execution_count": null,
   "metadata": {},
   "outputs": [
    {
     "name": "stdout",
     "output_type": "stream",
     "text": [
      "55.1 ms ± 678 μs per loop (mean ± std. dev. of 7 runs, 10 loops each)\n"
     ]
    }
   ],
   "source": [
    "%timeit insertion_sort(list(range(1000000)))"
   ]
  },
  {
   "cell_type": "markdown",
   "metadata": {},
   "source": [
    "#### Worst case"
   ]
  },
  {
   "cell_type": "code",
   "execution_count": null,
   "metadata": {},
   "outputs": [
    {
     "name": "stdout",
     "output_type": "stream",
     "text": [
      "108 μs ± 963 ns per loop (mean ± std. dev. of 7 runs, 10,000 loops each)\n"
     ]
    }
   ],
   "source": [
    "%timeit insertion_sort(list(reversed(range(100))))"
   ]
  },
  {
   "cell_type": "code",
   "execution_count": null,
   "metadata": {},
   "outputs": [
    {
     "name": "stdout",
     "output_type": "stream",
     "text": [
      "13.9 ms ± 70.1 μs per loop (mean ± std. dev. of 7 runs, 100 loops each)\n"
     ]
    }
   ],
   "source": [
    "%timeit insertion_sort(list(reversed(range(1000))))"
   ]
  },
  {
   "cell_type": "code",
   "execution_count": null,
   "metadata": {},
   "outputs": [
    {
     "data": {
      "text/plain": [
       "'3.12.8 | packaged by conda-forge | (main, Dec  5 2024, 14:19:53) [Clang 18.1.8 ]'"
      ]
     },
     "execution_count": 17,
     "metadata": {},
     "output_type": "execute_result"
    }
   ],
   "source": [
    "import sys\n",
    "sys.version"
   ]
  },
  {
   "cell_type": "markdown",
   "metadata": {},
   "source": [
    "##### Results for different Python versions\n",
    "\n",
    "Obtained by\n",
    "\n",
    "     1. creating multiple Python environments with `mamba env create -n py39 python=3.9 numpy` and similar\n",
    "     2. activating the environment and `pip install py_cpuinfo`\n",
    "     3. running `python ins_sort_bench.py`\n",
    "\n",
    "on an Apple MacBook Pro with M3 CPU timing execution of `insertion_sort(list(reversed(range(1000)))`\n",
    "\n",
    "| Python version | Runtime | Comment |\n",
    "| :------ | ----: | :--- |\n",
    "| 3.9.21 | 29.4 ms ± 0.4 ms ||\n",
    "| 3.10.16 | 28.3 ms ± 0.3 ms ||\n",
    "| 3.11.11 | 11.9 ms ± 0.0 ms | [FasterPython project results](https://docs.python.org/3.11/whatsnew/3.11.html#faster-cpython) |\n",
    "| 3.12.8 |  13.5 ms ± 0.1 ms | Slight performance regression |\n",
    "| 3.13.1 | 18.2 ms ± 0.2 ms | Significant performance regression |"
   ]
  },
  {
   "cell_type": "markdown",
   "metadata": {},
   "source": [
    "#### Average case"
   ]
  },
  {
   "cell_type": "code",
   "execution_count": null,
   "metadata": {},
   "outputs": [],
   "source": [
    "from random import random"
   ]
  },
  {
   "cell_type": "code",
   "execution_count": null,
   "metadata": {},
   "outputs": [
    {
     "name": "stdout",
     "output_type": "stream",
     "text": [
      "60 μs ± 364 ns per loop (mean ± std. dev. of 7 runs, 10,000 loops each)\n"
     ]
    }
   ],
   "source": [
    "%timeit insertion_sort([random() for _ in range(100)])"
   ]
  },
  {
   "cell_type": "code",
   "execution_count": null,
   "metadata": {},
   "outputs": [
    {
     "name": "stdout",
     "output_type": "stream",
     "text": [
      "7.39 ms ± 22.6 μs per loop (mean ± std. dev. of 7 runs, 100 loops each)\n"
     ]
    }
   ],
   "source": [
    "%timeit insertion_sort([random() for _ in range(1000)])"
   ]
  },
  {
   "cell_type": "markdown",
   "metadata": {},
   "source": [
    "### Skiena's implementation of insersion sort\n",
    "\n",
    "Skiena presents an implementation of insertion sort in the C programming language on p. 4 in his book that is slightly different from the pseudocode and Python implementations above:\n",
    "\n",
    "![Skiena](Figures/InsSort_Skiena.png)\n",
    "\n",
    "C *vs* Python: \n",
    "- Indentation does not matter, it is only there to make code more readable\n",
    "- Blocks, which are defined by indentation in Python, are marked by `{}`\n",
    "- Statements must end with semicolon `;`\n",
    "- Variables must be declared before use (`int i, j;`) and arrays do not know their size, so the function gets it explicitly (`n`)\n",
    "- Comments are surrounded by `/* */`\n",
    "\n",
    "Algorithmic difference:\n",
    "- Skiena's algorithm has no `key` variable but instead performs a `swap()` of elements\n",
    "- This seems to save one variable—but what might be hiding in the `swap()` function?\n",
    "\n",
    "##### Python implementation of Skiena's version"
   ]
  },
  {
   "cell_type": "code",
   "execution_count": null,
   "metadata": {},
   "outputs": [],
   "source": [
    "def insertion_sort_skiena(A):\n",
    "    for i in range(1, len(A)):\n",
    "        j = i\n",
    "        while j > 0 and A[j] < A[j-1]:\n",
    "            A[j], A[j-1] = A[j-1], A[j]\n",
    "            j = j - 1"
   ]
  },
  {
   "cell_type": "code",
   "execution_count": null,
   "metadata": {},
   "outputs": [
    {
     "name": "stdout",
     "output_type": "stream",
     "text": [
      "25.7 ms ± 110 μs per loop (mean ± std. dev. of 7 runs, 10 loops each)\n"
     ]
    }
   ],
   "source": [
    "%timeit insertion_sort_skiena(list(reversed(range(1000))))"
   ]
  },
  {
   "cell_type": "markdown",
   "metadata": {},
   "source": [
    "Questions:\n",
    "- Is this implementation also correct?\n",
    "- How does it compare in number of operations?\n",
    "- Why does it take almost twice as long as our original implementation?"
   ]
  },
  {
   "cell_type": "code",
   "execution_count": null,
   "metadata": {},
   "outputs": [],
   "source": []
  }
 ],
 "metadata": {
  "kernelspec": {
   "display_name": "Python (myenv)",
   "language": "python",
   "name": "myenv"
  },
  "language_info": {
   "codemirror_mode": {
    "name": "ipython",
    "version": 3
   },
   "file_extension": ".py",
   "mimetype": "text/x-python",
   "name": "python",
   "nbconvert_exporter": "python",
   "pygments_lexer": "ipython3",
   "version": "3.8.18"
  },
  "latex_metadata": {
   "affiliation": "NMBU / REALTEK",
   "author": "Hans Ekkehard Plesser",
   "date": "7 September 2020",
   "title": "INF221 Lecture 2"
  }
 },
 "nbformat": 4,
 "nbformat_minor": 4
}

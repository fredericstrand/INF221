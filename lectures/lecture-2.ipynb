{
 "cells": [
  {
   "cell_type": "markdown",
   "metadata": {},
   "source": [
    "# INF221 — Lecture 2\n",
    "\n",
    "### Today's topics\n",
    "\n",
    "1. Insertion sort—analysing performance\n",
    "1. Designing algorithms\n",
    "1. Growth of functions"
   ]
  },
  {
   "cell_type": "markdown",
   "metadata": {},
   "source": [
    "### Mandatory activity\n",
    "\n",
    "- Roughly every other week until Easter\n",
    "- Longer assignment after Easter\n",
    "- Deadline Fridays at 18.00\n",
    "- First assignment due **Friday 21 February**\n",
    "- Further deadlines on 7 March, 21 March, 4 April, and 2 May\n",
    "- All assignments to be handed in via Canvas\n",
    "- All assignments to be handed in as Jupyter Notebooks + exported PDF\n",
    "- You hand in in groups of two\n",
    "- Evaluation\n",
    "    - You get points for each exercise in an assignment\n",
    "    - Getting a point requires reasonable effort to tackle the exercise\n",
    "    - 60% of points required across all assignments\n",
    "    - No points for assignments delivered late!\n",
    "- **Assignments must be approved to pass the course.**\n",
    "    - If you got assignments (mandatory activity) approved in INF221 previously, you do not need to re-do them. Please inform me if this applies to you!\n",
    "\n",
    "### Final exam\n",
    "\n",
    "- Written exam on **23 May 2025** from 09.00\n",
    "- Two hours\n",
    "- Grading A–F\n",
    "- No aids (possibly calculator), but essential equations will be provided\n",
    "- Not finally decided whether paper- or Wiseflow-based\n",
    "- Exam from 2019 available on Canvas as a **rough** point of orientation (INF221 was 10 credits then)"
   ]
  },
  {
   "cell_type": "markdown",
   "metadata": {},
   "source": [
    "-----------------\n",
    "\n",
    "## 1. Insertion Sort—Analyzing performance\n",
    "\n",
    "- Skiena Ch 2\n",
    "- Performance is essential if programs are to be useful\n",
    "- We need to assess performance theoretically (paper and pencil) and empirically (benchmarks)\n",
    "- Key question: how does **running time** depend on **input size**\n",
    "- Basic assumptions in algorithm analysis: \n",
    "    - All operations require approximately the same time\n",
    "    - The *number* of operations is essential\n",
    "\n",
    "### Analysis of Insertion Sort\n",
    "\n",
    "Line |Statement | Cost | Number of executions | .\n",
    "-- |:-- | :-- | :-- | :---------\n",
    "2|  $\\texttt{for j = 2 to A.length}$ | $c_2$ | $n$ |\n",
    "3|  $\\quad\\texttt{key = A[j]}$ | $c_3$ | $n-1$ |\n",
    "4|  $\\quad\\texttt{i = j - 1}$ | $c_4$ | $n-1$ |\n",
    "5|  $\\quad\\texttt{while i > 0 and A[i] > key}$ | $c_5$ | ${\\sum_{j=2}^n t_j}$ |\n",
    "6|  $\\qquad\\;\\texttt{A[i + 1] = A[i]}$ | $c_6$ | ${\\sum_{j=2}^n (t_j-1)}$ |\n",
    "7|  $\\qquad\\;\\texttt{i = i - 1}$ | $c_7$ | ${\\sum_{j=2}^n (t_j-1)}$ |\n",
    "8|  $\\quad\\texttt{A[i + 1] = key}$ | $c_8$ | $n-1$ |\n",
    "\n",
    "where\n",
    "\n",
    "- $n = $ `A.length`\n",
    "- $t_j$ is number of times the `while`-loop test is performed for given `j`"
   ]
  },
  {
   "cell_type": "markdown",
   "metadata": {},
   "source": [
    "The total runtime is then\n",
    "\n",
    "\\begin{align}\n",
    "T(n) &= c_2 n + c_3(n-1) + c_4(n-1) + c_5 \\sum_{j=2}^n t_j + c_6 \\sum_{j=2}^n (t_j-1) + c_7 \\sum_{j=2}^n (t_j-1) + c_8 (n-1) \\\\\n",
    "&= c_2 n + (c_3 + c_4 + c_8) (n-1) + (c_5 +c_6+c_7) \\sum_{j=2}^n t_j - (c_6+c_7)(n-1) \\\\\n",
    "&= c_2 n + (c_3 + c_4 +c_8-c_6-c_7)(n-1) + (c_5 +c_6+c_7) \\sum_{j=2}^n t_j \\\\\n",
    "&= (c_5 +c_6+c_7) \\sum_{j=2}^n t_j + (c_2+c_3+c_4+c_8-c_6-c_7) n - (c_3 + c_4 +c_8-c_6-c_7) \\\\\n",
    "&= A \\sum_{j=2}^n t_j + B n + C\n",
    "\\end{align}\n",
    "\n",
    "- What is $t_j$?\n",
    "\n",
    "#### Best case\n",
    "- We never enter the while loop: $t_j = 1$ for all $j$\n",
    "- True if data is already sorted\n",
    "- Then we have\n",
    "\\begin{equation}\n",
    "T(n) = A \\sum_{j=2}^n 1 + Bn +C = A(n-1) + Bn + C = (A+B) n + (C-A)\n",
    "\\end{equation}\n",
    "- Running time is **linear** in $n$\n",
    "- Considering only the term of highest order in $n$, we can express this as\n",
    "$$T(n) = \\Theta(n)$$\n",
    "\n",
    "#### Worst case\n",
    "- We have to run through the loop until `i==0` for each $j$\n",
    "- True if data are in reverse order\n",
    "- Then $t_j = j$\n",
    "- Then we have\n",
    "\\begin{equation}\n",
    "T(n) = A \\sum_{j=2}^n j + Bn +C = A\\left(\\frac{n(n+1)}{2}-1\\right) + Bn + C = \\frac{A}{2}n^2 + \\left(\\frac{A}{2}+B\\right) n + (C-A)\n",
    "\\end{equation}\n",
    "- Running time is **quadratic** in $n$\n",
    "- We can express this as $$T(n)=\\Theta(n^2)$$\n",
    "\n",
    "#### Average case\n",
    "- What does \"average\" mean?\n",
    "- Assume here: need to run half-way through while-loop\n",
    "- Then $t_j = j/2$\n",
    "- Quadratic running-time dependence as for worst case, but with $A/4$ instead of $A/2$\n",
    "- In this case, we also have $$T(n)=\\Theta(n^2)$$\n",
    "\n",
    "For insertion sort, the average case essentially behaves like the worst case."
   ]
  },
  {
   "cell_type": "markdown",
   "metadata": {},
   "source": [
    "### Benchmarks\n",
    "\n",
    "- Let us test the theory by performing simulation experiments"
   ]
  },
  {
   "cell_type": "code",
   "execution_count": 1,
   "metadata": {
    "ExecuteTime": {
     "end_time": "2025-02-10T09:26:17.774380Z",
     "start_time": "2025-02-10T09:26:17.762913Z"
    }
   },
   "outputs": [],
   "source": [
    "def insertion_sort(A):\n",
    "    for j in range(1, len(A)):\n",
    "        key = A[j]\n",
    "        i = j - 1\n",
    "        while i >= 0 and A[i] > key:\n",
    "            A[i + 1] = A[i]\n",
    "            i = i - 1\n",
    "        A[i + 1] = key"
   ]
  },
  {
   "cell_type": "markdown",
   "metadata": {},
   "source": [
    "#### Best case"
   ]
  },
  {
   "cell_type": "code",
   "execution_count": 2,
   "metadata": {
    "ExecuteTime": {
     "end_time": "2025-02-10T09:26:26.370298Z",
     "start_time": "2025-02-10T09:26:17.813559Z"
    }
   },
   "outputs": [
    {
     "name": "stdout",
     "output_type": "stream",
     "text": [
      "10 µs ± 2.33 µs per loop (mean ± std. dev. of 7 runs, 100,000 loops each)\n"
     ]
    }
   ],
   "source": [
    "%timeit insertion_sort(list(range(100)))"
   ]
  },
  {
   "cell_type": "code",
   "execution_count": 3,
   "metadata": {
    "ExecuteTime": {
     "end_time": "2025-02-10T09:26:33.422072Z",
     "start_time": "2025-02-10T09:26:26.436128Z"
    }
   },
   "outputs": [
    {
     "name": "stdout",
     "output_type": "stream",
     "text": [
      "85.9 µs ± 327 ns per loop (mean ± std. dev. of 7 runs, 10,000 loops each)\n"
     ]
    }
   ],
   "source": [
    "%timeit insertion_sort(list(range(1000)))"
   ]
  },
  {
   "cell_type": "code",
   "execution_count": 4,
   "metadata": {
    "ExecuteTime": {
     "end_time": "2025-02-10T09:26:40.752427Z",
     "start_time": "2025-02-10T09:26:33.427504Z"
    }
   },
   "outputs": [
    {
     "name": "stdout",
     "output_type": "stream",
     "text": [
      "902 µs ± 2.56 µs per loop (mean ± std. dev. of 7 runs, 1,000 loops each)\n"
     ]
    }
   ],
   "source": [
    "%timeit insertion_sort(list(range(10000)))"
   ]
  },
  {
   "cell_type": "code",
   "execution_count": 5,
   "metadata": {
    "ExecuteTime": {
     "end_time": "2025-02-10T09:26:48.352758Z",
     "start_time": "2025-02-10T09:26:40.757661Z"
    }
   },
   "outputs": [
    {
     "name": "stdout",
     "output_type": "stream",
     "text": [
      "9.35 ms ± 23.9 µs per loop (mean ± std. dev. of 7 runs, 100 loops each)\n"
     ]
    }
   ],
   "source": [
    "%timeit insertion_sort(list(range(100000)))"
   ]
  },
  {
   "cell_type": "code",
   "execution_count": 6,
   "metadata": {
    "ExecuteTime": {
     "end_time": "2025-02-10T09:26:56.205757Z",
     "start_time": "2025-02-10T09:26:48.357466Z"
    }
   },
   "outputs": [
    {
     "name": "stdout",
     "output_type": "stream",
     "text": [
      "96.7 ms ± 447 µs per loop (mean ± std. dev. of 7 runs, 10 loops each)\n"
     ]
    }
   ],
   "source": [
    "%timeit insertion_sort(list(range(1000000)))"
   ]
  },
  {
   "cell_type": "markdown",
   "metadata": {},
   "source": [
    "#### Worst case"
   ]
  },
  {
   "cell_type": "code",
   "execution_count": 7,
   "metadata": {
    "ExecuteTime": {
     "end_time": "2025-02-10T09:26:58.662958Z",
     "start_time": "2025-02-10T09:26:56.210808Z"
    }
   },
   "outputs": [
    {
     "name": "stdout",
     "output_type": "stream",
     "text": [
      "302 µs ± 1.29 µs per loop (mean ± std. dev. of 7 runs, 1,000 loops each)\n"
     ]
    }
   ],
   "source": [
    "%timeit insertion_sort(list(reversed(range(100))))"
   ]
  },
  {
   "cell_type": "code",
   "execution_count": 8,
   "metadata": {
    "ExecuteTime": {
     "end_time": "2025-02-10T09:27:01.273714Z",
     "start_time": "2025-02-10T09:26:58.668134Z"
    }
   },
   "outputs": [
    {
     "name": "stdout",
     "output_type": "stream",
     "text": [
      "32.1 ms ± 81.8 µs per loop (mean ± std. dev. of 7 runs, 10 loops each)\n"
     ]
    }
   ],
   "source": [
    "%timeit insertion_sort(list(reversed(range(1000))))"
   ]
  },
  {
   "cell_type": "code",
   "execution_count": 9,
   "metadata": {
    "ExecuteTime": {
     "end_time": "2025-02-10T09:27:01.282813Z",
     "start_time": "2025-02-10T09:27:01.279136Z"
    }
   },
   "outputs": [
    {
     "data": {
      "text/plain": [
       "'3.9.6 (default, Feb  3 2024, 15:58:27) \\n[Clang 15.0.0 (clang-1500.3.9.4)]'"
      ]
     },
     "execution_count": 9,
     "metadata": {},
     "output_type": "execute_result"
    }
   ],
   "source": [
    "import sys\n",
    "sys.version"
   ]
  },
  {
   "cell_type": "markdown",
   "metadata": {},
   "source": [
    "##### Results for different Python versions\n",
    "\n",
    "Obtained by\n",
    "\n",
    "1. creating multiple Python environments with `mamba env create -n py39 python=3.9 numpy` and similar\n",
    "2. activating the environment and `pip install py_cpuinfo`\n",
    "3. running `python ins_sort_bench.py`\n",
    "\n",
    "on an Apple MacBook Pro with M3 CPU timing execution of `insertion_sort(list(reversed(range(1000)))`\n",
    "\n",
    "| Python version | Runtime | Comment |\n",
    "| :------ | ----: | :--- |\n",
    "| 3.9.21 | 29.4 ms ± 0.4 ms ||\n",
    "| 3.10.16 | 28.3 ms ± 0.3 ms ||\n",
    "| 3.11.11 | 11.9 ms ± 0.0 ms | [FasterPython project results](https://docs.python.org/3.11/whatsnew/3.11.html#faster-cpython) |\n",
    "| 3.12.8 |  13.5 ms ± 0.1 ms | Slight performance regression |\n",
    "| 3.13.1 | 18.2 ms ± 0.2 ms | Significant performance regression |"
   ]
  },
  {
   "cell_type": "markdown",
   "metadata": {},
   "source": [
    "#### Average case"
   ]
  },
  {
   "cell_type": "code",
   "execution_count": 10,
   "metadata": {
    "ExecuteTime": {
     "end_time": "2025-02-10T09:27:01.303160Z",
     "start_time": "2025-02-10T09:27:01.301329Z"
    }
   },
   "outputs": [],
   "source": [
    "from random import random"
   ]
  },
  {
   "cell_type": "code",
   "execution_count": 11,
   "metadata": {
    "ExecuteTime": {
     "end_time": "2025-02-10T09:27:14.086396Z",
     "start_time": "2025-02-10T09:27:01.314945Z"
    }
   },
   "outputs": [
    {
     "name": "stdout",
     "output_type": "stream",
     "text": [
      "157 µs ± 306 ns per loop (mean ± std. dev. of 7 runs, 10,000 loops each)\n"
     ]
    }
   ],
   "source": [
    "%timeit insertion_sort([random() for _ in range(100)])"
   ]
  },
  {
   "cell_type": "code",
   "execution_count": 12,
   "metadata": {
    "ExecuteTime": {
     "end_time": "2025-02-10T09:27:27.538291Z",
     "start_time": "2025-02-10T09:27:14.090542Z"
    }
   },
   "outputs": [
    {
     "name": "stdout",
     "output_type": "stream",
     "text": [
      "16.6 ms ± 42.9 µs per loop (mean ± std. dev. of 7 runs, 100 loops each)\n"
     ]
    }
   ],
   "source": [
    "%timeit insertion_sort([random() for _ in range(1000)])"
   ]
  },
  {
   "cell_type": "markdown",
   "metadata": {},
   "source": [
    "### Skiena's implementation of insersion sort\n",
    "\n",
    "Skiena presents an implementation of insertion sort in the C programming language on p. 4 in his book that is slightly different from the pseudocode and Python implementations above:\n",
    "\n",
    "![Skiena](Figures/InsSort_Skiena.png)\n",
    "\n",
    "C *vs* Python: \n",
    "- Indentation does not matter, it is only there to make code more readable\n",
    "- Blocks, which are defined by indentation in Python, are marked by `{}`\n",
    "- Statements must end with semicolon `;`\n",
    "- Variables must be declared before use (`int i, j;`) and arrays do not know their size, so the function gets it explicitly (`n`)\n",
    "- `&s[j]` passes the memory address of the $j^{\\text{th}}$ element of array `s` to function `swap()` so that the function can change the data in that element\n",
    "- Comments are surrounded by `/* */`\n",
    "\n",
    "Algorithmic difference:\n",
    "- Skiena's algorithm has no `key` variable but instead performs a `swap()` of elements\n",
    "- This seems to save one variable—but what might be hiding in the `swap()` function?\n",
    "\n",
    "##### Python implementation of Skiena's version"
   ]
  },
  {
   "cell_type": "code",
   "execution_count": 13,
   "metadata": {
    "ExecuteTime": {
     "end_time": "2025-02-10T09:27:27.549135Z",
     "start_time": "2025-02-10T09:27:27.546793Z"
    }
   },
   "outputs": [],
   "source": [
    "def insertion_sort_skiena(A):\n",
    "    for i in range(1, len(A)):\n",
    "        j = i\n",
    "        while j > 0 and A[j] < A[j-1]:\n",
    "            A[j], A[j-1] = A[j-1], A[j]\n",
    "            j = j - 1"
   ]
  },
  {
   "cell_type": "code",
   "execution_count": 14,
   "metadata": {
    "ExecuteTime": {
     "end_time": "2025-02-10T09:27:31.964913Z",
     "start_time": "2025-02-10T09:27:27.555783Z"
    }
   },
   "outputs": [
    {
     "name": "stdout",
     "output_type": "stream",
     "text": [
      "54.2 ms ± 151 µs per loop (mean ± std. dev. of 7 runs, 10 loops each)\n"
     ]
    }
   ],
   "source": [
    "%timeit insertion_sort_skiena(list(reversed(range(1000))))"
   ]
  },
  {
   "cell_type": "markdown",
   "metadata": {},
   "source": [
    "Questions (see mandatory exercise due 21 Feb):\n",
    "- Is this implementation also correct?\n",
    "- How does it compare in number of operations?\n",
    "- Why does it take almost twice as long as our original implementation?"
   ]
  },
  {
   "cell_type": "markdown",
   "metadata": {},
   "source": [
    "-----------\n",
    "\n",
    "## Designing algorithms"
   ]
  },
  {
   "cell_type": "code",
   "execution_count": 15,
   "metadata": {
    "ExecuteTime": {
     "end_time": "2025-02-10T09:27:31.972973Z",
     "start_time": "2025-02-10T09:27:31.970679Z"
    }
   },
   "outputs": [],
   "source": [
    "def insertion_sort_p(A):\n",
    "    for j in range(1, len(A)):\n",
    "        print(A)\n",
    "        key = A[j]\n",
    "        i = j - 1\n",
    "        while i >= 0 and A[i] > key:\n",
    "            A[i + 1] = A[i]\n",
    "            i = i - 1\n",
    "        A[i + 1] = key\n",
    "    print(A)"
   ]
  },
  {
   "cell_type": "code",
   "execution_count": 16,
   "metadata": {
    "ExecuteTime": {
     "end_time": "2025-02-10T09:27:31.984169Z",
     "start_time": "2025-02-10T09:27:31.982249Z"
    }
   },
   "outputs": [
    {
     "name": "stdout",
     "output_type": "stream",
     "text": [
      "[5, 4, 3, 2, 1]\n",
      "[4, 5, 3, 2, 1]\n",
      "[3, 4, 5, 2, 1]\n",
      "[2, 3, 4, 5, 1]\n",
      "[1, 2, 3, 4, 5]\n"
     ]
    }
   ],
   "source": [
    "insertion_sort_p([5, 4, 3, 2, 1])"
   ]
  },
  {
   "cell_type": "markdown",
   "metadata": {},
   "source": [
    "- We have considered the **insertion sort** algorithm that uses an *incremental* approach for sorting \n",
    "    - starting with a sorted subarray `A[1..j-1]`\n",
    "    - inserting a single element `A[j]` into proper place\n",
    "    - after algorithm finished: yield sorted subarray `A[1..j]`\n",
    "\n",
    "- **Insertion sort** algorithm is effecient for sorting small number of elements\n",
    "- In the worst-case scenario, **insertion sort** algorithm is slow since it is computationally expensive\n",
    "\n",
    "#### Problem size development for insertion sort\n",
    "\n",
    "Consider sorting data originally in reverse order\n",
    "\n",
    "$$\n",
    "\\begin{array}{ccccc}\\hline\n",
    "\\color{red} 5 & 4 & 3 & 2 & 1 \\\\\\hline\n",
    "\\color{red} 4 & \\color{red} 5 & \\color{black} 3 & 2 & 1  \\\\\\hline\n",
    "\\color{red} 3 & \\color{red} 4 & \\color{red} 5 & 2 & 1 \\\\\\hline\n",
    "\\color{red} 2 & \\color{red} 3 & \\color{red} 4 & \\color{red} 5 & 1 \\\\\\hline\n",
    "\\color{red} 1 & \\color{red} 2 & \\color{red} 3 & \\color{red} 4 & \\color{red} 5 \\\\\\hline\n",
    "\\end{array}\n",
    "$$\n",
    "\n",
    "For each round through the outer loop, one more element is sorted. Or, looking the other way around, one fewer element remains unsorted. Thus, we *reduce problem size by one for each round through the outer loop*.\n",
    "\n",
    "Can we do better?"
   ]
  },
  {
   "attachments": {},
   "cell_type": "markdown",
   "metadata": {},
   "source": [
    "### Divide-and-conquer approach\n",
    "\n",
    "- The **divide-and-conquer** algorithm design can perform the same sorting task (for worst case scenario) in far less time than **insertion sort**\n",
    "\n",
    "- Many useful algorithms are *recursive*\n",
    "- Recursion in computer science is a method where the solution to a problem depends on solutions to smaller instances of the same problem\n",
    "- Recursion is one of the central ideas of computer science\n",
    "\n",
    "\n",
    "#### Divide-and-conquer paradigm involves *three* steps at each level of *recursion*.\n",
    "\n",
    "1. **Divide** the problem into a number of subproblems\n",
    "1. **Conquer** the subproblems by solving them *recursively*. If the subproblem sizes are small enough, however, just solve the subproblems in a straightforward manner\n",
    "1. **Combine** the solutions to the subproblem into the solution for the original problem.\n",
    "\n",
    "#### Tromino — an example of a problem best solved recursively\n",
    "\n",
    "- We are given a field with $2^n \\times 2^n$ squares, for $n\\in\\mathbb{N}_0$.\n",
    "- Exactly one of these squares is filled.\n",
    "- Fill the remaining squares by placing L-shaped trominos into the field!\n",
    "\n",
    "See also [Wikipedia article on Trominos](https://en.wikipedia.org/wiki/Tromino).\n",
    "\n",
    "|  |  |  |\n",
    "|--|--|--|\n",
    "|![Tromino1](Figures/tromino_1.png)|![Tromino2](Figures/tromino_2.png)|![Tromino3](Figures/tromino_3.png)|\n",
    "|![Tromino4](Figures/tromino_4.png)|![Tromino5](Figures/tromino_5.png)|![Tromino6](Figures/tromino_6.png)|\n",
    "\n",
    "##### Tromino algorithm\n",
    "\n",
    "1. Divide the problem evenly into four subproblems. Only one subproblem will contain a filled square.\n",
    "2. Place a single tromino so that it fills exactly one square in each of the three empty subproblems (\"place it around the corner of the subproblem with the filled square\").\n",
    "3. Now all four subproblems contain exactly one filled square, i.e., we have four problems of exactly the same type as the original problem, but with size $2^{n-1}\\times 2^{n-1}$.\n",
    "4. Repeat 1–3 for the subproblems, stopping at $2\\times 2$ subproblems.\n",
    "\n",
    "##### Comments\n",
    "\n",
    "- One can visually \"see\" that the algorithm will work. We will not attempt a formal proof here.\n",
    "- It is a typical and visual example of breaking larger problems into smaller problems *of exactly the same type* and solving those.\n",
    "- Because the subproblems are of exactly the same type, we can solve them with exactly the same algorithm.\n",
    "- This is the power of *recursion* (from Latin \"re-\" for \"again\" and \"currere\" for \"to run\").\n",
    "- Recursion is one of the most powerful and important concepts in computer science. We will see many examples during the course. See also [the Wikipedia article on recursion in computer science](https://en.wikipedia.org/wiki/Recursion_(computer_science)).\n",
    "\n",
    "##### Challenge\n",
    "\n",
    "A little reflection over the Tromino problem above suggests the following mathematical theorem:\n",
    "\n",
    "> For every $n\\in\\mathbb{N}_0$, there exists an $m\\in\\mathbb{N}_0$ such that $4^n = 3m+1$.\n",
    "\n",
    "Can you argue informally why this should hold, and can you give a mathematical proof by induction?\n",
    "\n",
    "This theorem describes a relation between integers. This leads to quite different mathematics than the calculus of real numbers. Such equations are a part of [*discrete mathematics*](https://en.wikipedia.org/wiki/Discrete_mathematics) and are quite important for computer science and cryptography."
   ]
  },
  {
   "cell_type": "markdown",
   "metadata": {},
   "source": [
    "#### Divide-and conquer paradigm in the ***merge sort*** algorithm \n",
    "\n",
    "See Skiena, ch 4.5.\n",
    "\n",
    "1. **Divide:** Divide the *n*-element sequence to be sorted into two subsequences of $n/2$\n",
    "1. **Conquer:** Sort the two subsequences recursively using *merge sort*\n",
    "1. **Combine:** Merge the two sorted subsequences to produce the sorted answer\n",
    "\n",
    "Note that the recursion \"bottoms out\" when sequence to be sorted has length 1.\n",
    "\n",
    "#### Key operation in **merge sort**: the **merge** procedure"
   ]
  },
  {
   "cell_type": "markdown",
   "metadata": {},
   "source": [
    "#### Graphical illustration of merge-sort procedure\n",
    "\n",
    "Figures from http://www.interactivepython.org (now defunct)."
   ]
  },
  {
   "cell_type": "markdown",
   "metadata": {},
   "source": [
    "##### Dividing process\n",
    "\n",
    "![Dividing process](Figures/mergesortA.png)"
   ]
  },
  {
   "cell_type": "markdown",
   "metadata": {},
   "source": [
    "##### Merging process\n",
    "\n",
    "![Merging process](Figures/mergesortB.png)"
   ]
  },
  {
   "cell_type": "markdown",
   "metadata": {},
   "source": [
    "#### Pseudocode for merge procedure\n",
    "\n",
    "**Input:** \n",
    "- Array $A$ with length $n$  \n",
    "- Indices $p\\leq q < r\\leq n$\n",
    "- Subarrays $A[p\\dots q]$ and $A[q+1 \\dots r]$ are each sorted\n",
    "\n",
    "**Output:**\n",
    "- Array $A$ with the following properties\n",
    "    - Subarray $A[p\\dots r]$ is sorted\n",
    "    - Subarrays $A[1\\dots p-1]$ and $A[r+1\\dots n]$ unchanged\n",
    "\n",
    "\n",
    "```\n",
    "MERGE(A, p, q, r)\n",
    "1:  n1 = q - p + 1\n",
    "2:  n2 = r - q\n",
    "3:  let L[1..n1 + 1] and R[1..n2 + 1] be new arrays\n",
    "4:  for i = 1 to n1\n",
    "5:      L[i] = A[p + i - 1]\n",
    "6:  for j = 1 to n2\n",
    "7:      R[j] = A[q + j]\n",
    "8:  L[n1 + 1] = ∞\n",
    "9:  R[n2 + 1] = ∞\n",
    "10: i = 1\n",
    "11: j = 1\n",
    "12: for k = p to r\n",
    "13:     if L[i] ≤ R[j]\n",
    "14:         A[k] = L[i]\n",
    "15:         i = i + 1\n",
    "16:     else \n",
    "17:         A[k] = R[j]\n",
    "18:         j = j + 1\n",
    "```\n",
    "\n",
    "The infinite values at `L[n1+1]` and `R[n2+1]` are *sentinels* which simplify the code on lines 12–18: we do not need to check if we run out of elements in `L` or `R` inside the for loop.\n",
    "\n",
    "#### Python implementation of merge procedure\n",
    "\n",
    "This Python implementation is designed to be as close to the pseudocode as possible. It is **not** elegant Python code."
   ]
  },
  {
   "cell_type": "code",
   "execution_count": 17,
   "metadata": {
    "ExecuteTime": {
     "end_time": "2025-02-10T09:27:32.000249Z",
     "start_time": "2025-02-10T09:27:31.996212Z"
    }
   },
   "outputs": [
    {
     "name": "stdout",
     "output_type": "stream",
     "text": [
      "Sorted output [78, 77, 76, 75, 74, 73, 72, 71, 1, 2, 2, 3, 4, 5, 6, 7, -81, -82, -83]\n"
     ]
    }
   ],
   "source": [
    "def merge(A, p, q, r):    \n",
    "    n1 = q - p + 1\n",
    "    n2 = r - q\n",
    "    \n",
    "    L = [0] * n1\n",
    "    R = [0] * n2\n",
    "\n",
    "    for i in list(range(n1)):\n",
    "        L[i] = A[p + i - 1]\n",
    "    \n",
    "    for j in list(range(n2)):\n",
    "        R[j] = A[q + j]\n",
    "\n",
    "    L.append(float('inf'))\n",
    "    R.append(float('inf'))\n",
    "\n",
    "    i = 1 - 1     # Subtract 1 to adjust to Python indexing\n",
    "    j = 1 - 1     # Subtract 1 to adjust to Python indexing\n",
    "    \n",
    "    for k in list(range(p - 1, r)):     # Subtract 1 from q to adjust to Python range object\n",
    "        if L[i] <= R[j]:\n",
    "            A[k] = L[i]\n",
    "            i = i + 1\n",
    "        else:\n",
    "            A[k] = R[j]\n",
    "            j = j + 1\n",
    "     \n",
    "           \n",
    "a = [78, 77, 76, 75, 74, 73, 72, 71, 2, 4, 5, 7, 1, 2, 3, 6, -81, -82, -83]\n",
    "p_idx = 9\n",
    "q_idx = 12\n",
    "r_idx = 16\n",
    "\n",
    "merge(a, p_idx, q_idx, r_idx)\n",
    "print('Sorted output', a)"
   ]
  },
  {
   "cell_type": "markdown",
   "metadata": {},
   "source": [
    "[Execute in Online Python Tutor](http://www.pythontutor.com/visualize.html#code=def%20merge%28A,%20p,%20q,%20r%29%3A%20%20%20%20%0A%20%20%20%20n1%20%3D%20q%20-%20p%20%2B%201%0A%20%20%20%20n2%20%3D%20r%20-%20q%0A%20%20%20%20%0A%20%20%20%20L%20%3D%20%5B0%5D%20*%20n1%0A%20%20%20%20R%20%3D%20%5B0%5D%20*%20n2%0A%0A%20%20%20%20for%20i%20in%20list%28range%28n1%29%29%3A%0A%20%20%20%20%20%20%20%20L%5Bi%5D%20%3D%20A%5Bp%20%2B%20i%20-%201%5D%0A%20%20%20%20%0A%20%20%20%20for%20j%20in%20list%28range%28n2%29%29%3A%0A%20%20%20%20%20%20%20%20R%5Bj%5D%20%3D%20A%5Bq%20%2B%20j%5D%0A%0A%20%20%20%20L.append%28float%28'inf'%29%29%0A%20%20%20%20R.append%28float%28'inf'%29%29%0A%0A%20%20%20%20i%20%3D%201%20-%201%20%20%20%20%20%23%20Subtract%201%20to%20adjust%20to%20Python%20indexing%0A%20%20%20%20j%20%3D%201%20-%201%20%20%20%20%20%23%20Subtract%201%20to%20adjust%20to%20Python%20indexing%0A%20%20%20%20%0A%20%20%20%20for%20k%20in%20list%28range%28p%20-%201,%20r%29%29%3A%20%20%20%20%20%23%20Subtract%201%20from%20q%20to%20adjust%20to%20Python%20range%20object%0A%20%20%20%20%20%20%20%20if%20L%5Bi%5D%20%3C%3D%20R%5Bj%5D%3A%0A%20%20%20%20%20%20%20%20%20%20%20%20A%5Bk%5D%20%3D%20L%5Bi%5D%0A%20%20%20%20%20%20%20%20%20%20%20%20i%20%3D%20i%20%2B%201%0A%20%20%20%20%20%20%20%20else%3A%0A%20%20%20%20%20%20%20%20%20%20%20%20A%5Bk%5D%20%3D%20R%5Bj%5D%0A%20%20%20%20%20%20%20%20%20%20%20%20j%20%3D%20j%20%2B%201%0A%20%20%20%20%20%0A%20%20%20%20%20%20%20%20%20%20%20%0Aa%20%3D%20%5B78,%2077,%2076,%2075,%2074,%2073,%2072,%2071,%202,%204,%205,%207,%201,%202,%203,%206,%20-81,%20-82,%20-83%5D%0Ap_idx%20%3D%209%0Aq_idx%20%3D%2012%0Ar_idx%20%3D%2016%0A%0Amerge%28a,%20p_idx,%20q_idx,%20r_idx%29%0Aprint%28'Sorted%20output',%20a%29&cumulative=false&curInstr=0&heapPrimitives=nevernest&mode=display&origin=opt-frontend.js&py=3&rawInputLstJSON=%5B%5D&textReferences=false)"
   ]
  },
  {
   "cell_type": "markdown",
   "metadata": {},
   "source": [
    "#### Correctness of `Merge(A, p, q, r)`\n",
    "\n",
    "##### Invariant\n",
    "At the start of each iteration of the **for** loop of lines 12-18\n",
    "1. subarray `A[p..k - 1]` contains the `k - p` smallest elements of `L[1..n1 + 1]` and `R[1..n2 + 1]` in sorted order\n",
    "1. `L[i]` and `R[j]` are the smallest elements of their arrays that have not been copied back into `A`\n",
    "\n",
    "##### Proof\n",
    "\n",
    "\n",
    "###### Initialization\n",
    "- Prior to first loop: `k = p`, which means that subarray `A[p..k - 1]` is empty\n",
    "- Moreover, the empty subarray `A[p..k - 1]` contains the `k - p = 0` smallest elements of `L` and `R`\n",
    "- Since `i = j = 1` and `L` and `R` are sorted by prerequisite, both `L[i]` and `R[j]` are the smallest elements of their arrays that have not been copied back into `A` \n",
    "\n",
    "\n",
    "###### Maintenance\n",
    "- If `L[i] ≤ R[j]`, then `L[i]` is smallest element not yet copied back into `A`\n",
    "    - Since `A[p..k - 1]` contains the `k - p` smallest elements, the subarray `A[p..k]` will contain the `k - p + 1` smallest elements after line 14 copies `L[i]` into `A[k]`\n",
    "    - Incrementing `k` and `i` in line 15 reestablishes loop invariant for next iteration\n",
    "- If instead `L[i] > R[j]`, then lines 16-17 perform appropriate action to maintain loop invariant\n",
    "\n",
    "\n",
    "##### Termination\n",
    "- At termination, `k = r + 1`\n",
    "- At this point, `A[p..k - 1]` turns into `A[p..r]` and contains `k - p = r - p + 1` smallest elements of `L[1..n1 + 1]` and `R[1..n2 + 1]`, in sorted order\n",
    "- Arrays `L` and `R` \n",
    "    - together contain `n1 + n2 + 2 = r - p + 3` elements\n",
    "    - of those elements all but the two largest elements have been copied back to `A`\n",
    "    - the two largest elements are sentinels which were not part of `A[p..r]` and are discarded\n",
    "- Therefore, `A[p..r]` is now sorted."
   ]
  },
  {
   "cell_type": "markdown",
   "metadata": {},
   "source": [
    "#### Running times for merge procedure\n",
    "\n",
    "The procedure runs in $\\Theta(n)$ time:\n",
    " - $n$ is defined as $n = r - p + 1$\n",
    " - Each of lines 1–3 and 8–11 takes constant time\n",
    " - **for** loops of lines 4–7 take $\\Theta(n_1 + n_2) = \\Theta(n)$\n",
    " - $n+1$ iterations of **for** loops of lines 12–18, each of which take constant time"
   ]
  },
  {
   "cell_type": "markdown",
   "metadata": {},
   "source": [
    "#### Merge-sort procedure\n",
    "- Use *merge* procedure as a subroutine inside merge-sort algorithm\n",
    "- `merge_sort(A, p, r)` sorts elements in the subarray `A[p..r]`\n",
    "- If $p \\geqslant r$, the subarray has **at most** *one* element and is therefore already sorted\n",
    "- Otherwise: partition `A[p..r]` into two subarrays `A[p..q]` and `A[q+1..r]` with $q=\\lfloor (p+r)/2\\rfloor$\n",
    "    "
   ]
  },
  {
   "cell_type": "markdown",
   "metadata": {},
   "source": [
    "#### Pseudocode for merge-sort procedure\n",
    "\n",
    "```\n",
    "MERGE-SORT(A, p, r)\n",
    "1:  if p < r\n",
    "2:      q = ⎣(p + r)/2⎦\n",
    "3:      MERGE-SORT(A, p, q)\n",
    "4:      MERGE-SORT(A, q + 1, r)\n",
    "5:      MERGE(A, p, q, r)\n",
    "```\n",
    "\n",
    "To sort a complete array, call `MERGE-SORT(A, 1, A.length)`."
   ]
  },
  {
   "cell_type": "markdown",
   "metadata": {},
   "source": [
    "##### Floor and Ceiling\n",
    "\n",
    "- *Floor*: $\\lfloor x \\rfloor$ is the largest integer $\\leq x$\n",
    "- *Ceiling*: $\\lceil x \\rceil$ is the smallest integer $\\geq x$\n",
    "- For $x\\in\\mathbb{Z}$ we have $\\lfloor x \\rfloor = \\lceil x \\rceil$\n",
    "\n",
    "###### In class exercise\n",
    "\n",
    "1. What are $\\lfloor\\frac{3}{2}\\rfloor$, $\\lceil\\frac{3}{2}\\rceil$, $\\lfloor-\\frac{3}{2}\\rfloor$, $\\lceil-\\frac{3}{2}\\rceil$?\n",
    "2. Show that $\\lfloor n/2 \\rfloor + \\lceil n/2 \\rceil = n$ for all $n\\in \\mathbb{N}_0$!\n",
    "3. Show that choosing $q=\\lfloor (p+r)/2\\rfloor$ yields subarrays $A[p\\dots q+1]$ and $A[q\\dots r]$ with lengths $\\lceil n/2 \\rceil$ and $\\lfloor n/2 \\rfloor$ respectively"
   ]
  },
  {
   "cell_type": "markdown",
   "metadata": {},
   "source": [
    "---"
   ]
  },
  {
   "cell_type": "markdown",
   "metadata": {},
   "source": [
    "### Analysing divide-and-conquer algorithms\n",
    "\n",
    "- When algorithm contains recursive call to itself:\n",
    "    - running time can be often described by ***recurrence equation*** or ***recurrence***\n",
    "    - ***recurrence*** describes overall running time on a problem of size $n$\n",
    "    - does so in terms of the running time on smaller inputs\n",
    "- Can use mathematical tools to:\n",
    "    - solve the recurrence\n",
    "    - provide bounds on the performance of the algorithm\n",
    "- See Skiena, Ch. 5"
   ]
  },
  {
   "cell_type": "markdown",
   "metadata": {},
   "source": [
    "#### Recurrence for running time of divide-and-conquer algorithm\n",
    "- $T(n)$ is the running time on a problem of size $n$\n",
    "- If problem size small enough: \n",
    "    - that is, $n \\leq c$ for some constant $c$:\n",
    "    - straightforward solution takes constant time $\\Theta(1)$\n",
    "- Otherwise: division of problem yields $a$ subproblems\n",
    "    - each subproblem is of size $1/b$ of the original problem\n",
    "    - for *merge-sort* both $a$ and $b$ are 2\n",
    "    - note: for many *divide-and-conquer* algorithms $a \\ne b$\n",
    "    - time needed to solve one subproblem is $T(n/b)$\n",
    "    - time needed to divide original problem into subproblems is $D(n)$\n",
    "    - time needed to combine solutions to the subproblems into the solution to the original problem is $C(n)$\n",
    "    "
   ]
  },
  {
   "cell_type": "markdown",
   "metadata": {},
   "source": [
    "The above can be written in the following way\n",
    "\n",
    "$T(n) = \\bigg\\{\\begin{array}{ll}\n",
    "\\Theta(1) & \\text{if}\\; n \\leq c, \\\\\n",
    "aT(n/b)+D(n)+C(n) & \\text{otherwise} \\end{array}$\n",
    "\n",
    "We will discuss methods for solving recurrences later."
   ]
  },
  {
   "cell_type": "markdown",
   "metadata": {},
   "source": [
    "#### A few notes on recurrence-based analysis\n",
    "- Note that the pseudocode for *merge sort* works correctly even if number of elements is *not even*\n",
    "- Recurrence-based analysis is simplified:\n",
    "    - it assumes that original problem size is a power of 2 (i.e., that number of elements is even) despite the fact that the problem has an odd number of elements\n",
    "    - this assumption implies that the size of two subsequences is **exactly** $n/2$\n",
    "    - one can show that this assumption does not affect order of growth of solution of reccurence"
   ]
  },
  {
   "cell_type": "markdown",
   "metadata": {},
   "source": [
    "#### Setting up recurrence for $T(n)$ for worst-case running time of merge sort on $n$ numbers\n",
    "- If merge sort is applied on just **one element** it takes constant time\n",
    "- If $n > 1$:\n",
    "    - **Divide**\n",
    "        - computes the middle of the subarray\n",
    "        - this computation takes constant time (not dependent on size of subarray)\n",
    "        - therefore $D(n) = \\Theta(1)$\n",
    "    - **Conquer**\n",
    "        - recursively solves two subproblems\n",
    "        - each subproblem is of size $n/2$\n",
    "        - in sum all subproblems contribute $2T(n/2)$ to the running time\n",
    "    - **Combine**\n",
    "        - Already established above that **merge** procedure on an $n$-element subarray takes time $\\Theta(n)$\n",
    "        - therefore $C(n) = \\Theta(n)$"
   ]
  },
  {
   "attachments": {},
   "cell_type": "markdown",
   "metadata": {},
   "source": [
    "For **merge sort** with $a = 2$, $b = 2$, $D(n) = \\Theta(1)$, and $C(n) = \\Theta(n)$\n",
    "\n",
    "$T(n) = \\bigg\\{\\begin{array}{ll}\n",
    "\\Theta(1) & \\text{if}\\; n \\leq c, \\\\\n",
    "aT(n/b)+D(n)+C(n) & \\text{otherwise} \\end{array}$\n",
    "\n",
    "becomes\n",
    "\n",
    "$T(n) = \\bigg\\{\\begin{array}{ll}\n",
    "\\Theta(1) & \\text{if}\\; n = 1, \\\\\n",
    "2T(n/2)+\\Theta(n) & \\text{if}\\; n \\gt 1 \\end{array}$"
   ]
  },
  {
   "cell_type": "markdown",
   "metadata": {},
   "source": [
    "Note that since the sum of $D(n) + C(n) = \\Theta(1) + \\Theta(n)$ is a linear function of $n$ the result is $\\Theta(n)$."
   ]
  },
  {
   "cell_type": "markdown",
   "metadata": {},
   "source": [
    "If we use a constant $c$ to represent the time to solve problems of size 1, as well as the time per array element of the divide and combine steps, we can rewrite the recurrence the following way:\n",
    "\n",
    "$T(n) = \\bigg\\{\\begin{array}{ll}\n",
    "c & \\text{if}\\; n = 1, \\\\\n",
    "2T(n/2)+cn & \\text{if}\\; n \\gt 1 \\end{array}$"
   ]
  },
  {
   "cell_type": "markdown",
   "metadata": {},
   "source": [
    "#### Recursion tree\n",
    "\n",
    "Before we look at formal methods to solve the recurrence above, we can obtain a solution by looking at the recursion tree.\n",
    "\n",
    "|  |  |\n",
    "|--|--|\n",
    "|![CLRS Fig 2.5](Figures/CLRS-Fig-2-5.png)|__________________________________________________________|\n",
    "|Source: *CLSR Fig 2.5*||\n",
    "\n",
    "- Assumes that $n$ is exact power of 2\n",
    "- At the root (top level): the cost is $cn$\n",
    "- At a specific level $i$ below top: \n",
    "    - level has $2^i$ nodes, each contributing a cost of $c(n/2^i)$ \n",
    "    - the total cost across all nodes at this level is $2^i c(n/2^i) = cn$\n",
    "    - Example: at level $i=2$ below top \n",
    "        - there are $2^2 = 4$ nodes\n",
    "        - the cost for one node is $c(n/4)$\n",
    "        - the total cost across all nodes is $4 \\times c(n/4) = cn$\n",
    "- Total number of levels is $\\lg n + 1$, where $n$ is the number of leaves (corresponding to input size)\n",
    "- To compute the total cost represented by recurrence the costs at all levels are added up\n",
    "    - recurrence tree has $\\lg n + 1$ levels\n",
    "    - the cost at each level is $cn$\n",
    "    - the total cost: $cn(\\lg n + 1) = cn \\lg n + cn$\n",
    "    - Ignoring low-order term and constant gives $\\Theta(n \\lg n)$"
   ]
  },
  {
   "cell_type": "markdown",
   "metadata": {},
   "source": [
    "-----"
   ]
  },
  {
   "cell_type": "markdown",
   "metadata": {},
   "source": [
    "## Growth of Functions"
   ]
  },
  {
   "cell_type": "markdown",
   "metadata": {},
   "source": [
    "### Order of growth of running time of an algorithm\n",
    "- Skiena Ch. 2\n",
    "- Gives a simple characterisation of the algorithm's efficiency\n",
    "- Allows for comparison of relative performance of alternative algorithms\n",
    "- Comparison example from Ch. 2:\n",
    "    - **insertion sort** worst-case running time is $\\Theta(n^2)$\n",
    "    - **merge sort** worst-case running time is $\\Theta(n \\lg n)$\n",
    "    - for large $n$, merge sort outperforms insertion sort\n",
    "- Sometimes exact running time can be determined (as above for **insertion sort**)\n",
    "\n",
    "\\begin{align}\n",
    "T(n) &= c_2 n + c_3(n-1) + c_4(n-1) + c_5 \\sum_{j=2}^n t_j + c_6 \\sum_{j=2}^n (t_j-1) + c_7 \\sum_{j=2}^n (t_j-1) + c_8 (n-1) \\\\\n",
    "&= c_2 n + (c_3 + c_4 + c_8) (n-1) + (c_5 +c_6+c_7) \\sum_{j=2}^n t_j - (c_6+c_7)(n-1) \\\\\n",
    "&= c_2 n + (c_3 + c_4 +c_8-c_6-c_7)(n-1) + (c_5 +c_6+c_7) \\sum_{j=2}^n t_j \\\\\n",
    "&= (c_5 +c_6+c_7) \\sum_{j=2}^n t_j + (c_2+c_3+c_4+c_8-c_6-c_7) n - (c_3 + c_4 +c_8-c_6-c_7) \\\\\n",
    "&= A \\sum_{j=2}^n t_j + B n + C\n",
    "\\end{align}\n",
    "\n",
    "- **Insertion sort** running time $T(n)$ for worst case (sorted data, $t_j=j$)\n",
    "\n",
    "\\begin{equation}\n",
    "T(n) = \\frac{A}{2}n^2 + \\left(\\frac{A}{2}+B\\right) n + (C-A)\n",
    "\\end{equation}\n",
    "\n",
    "- However, usually it is not worth the effort to gain extra precision of running time\n",
    "- Illustrative example: how important is precision of a scale when weighing elephants and mice?\n",
    "- For large enough inputs, **multiplicative constants** and **lower-order terms** of exact running time are dominated by **effects of input size** itself "
   ]
  },
  {
   "cell_type": "markdown",
   "metadata": {},
   "source": [
    "### Studying asymptotic efficiency of algorithms\n",
    "- Studying input sizes **large enough** to make only the order of growth of running time relevant\n",
    "- Concerned with how running time of an algorithm **increases with size of input** *in the limit*, that is size of input increases without bound\n",
    "- Usually, an algorithm that is **asymptotically** more efficient is the best choice for all but very small input"
   ]
  },
  {
   "cell_type": "markdown",
   "metadata": {},
   "source": [
    "### Asymptotic notation\n",
    "\n",
    "#### Asymptotic notation, functions and running times\n",
    "- We will usually use **asymptotic notation** to characterise the running time of algorithms\n",
    "- Asymptotic notation can also apply to functions that characterise other aspects of algorithms (such as amount of space they use, etc.)\n",
    "- However, when applying asymptotic notation to running time of an algorithm:\n",
    "    - we need to understand **which** running time is meant\n",
    "    - sometimes we are interested in **worst-case** running time\n",
    "    - but often we wish to characterise the running time, regardless of input (whether it is worst case or best case, etc.). That is, we wish to make a blanket statement that covers all inputs\n",
    "    - asymptotic notations are well suited to characterising running times, no matter what the input"
   ]
  },
  {
   "cell_type": "markdown",
   "metadata": {},
   "source": [
    "#### $\\Theta$-notation\n",
    "\n",
    "- From above: worst-case running time of insertion sort is $T(n) = \\Theta(n^2)$\n",
    "- What precisely does this mean?\n",
    "\n",
    "##### Definition\n",
    "\n",
    "For a given function $g(n)$, we denote by $\\Theta(g(n))$ the following *set of functions*\n",
    "\n",
    "$$\\Theta(g(n)) = \\left\\{f(n) | \\:\\exists\\, c_{1}>0, c_{2}>0, n_{0}\\in \\mathbb{N} \\ni 0 \\leq c_{1}g(n) \\leq f(n) \\leq c_{2}g(n) \\; \\forall \\, n \\geq n_{0}\\right\\}$$\n",
    "\n",
    "|$\\exists$ |$\\ni$ | $\\forall$ |\n",
    "|:-:|:-:|:-:|\n",
    "|there exists|such that|for all|\n",
    "\n",
    "Or in words: $\\Theta(g(n))$ is the set of all functions for which we can find constants $c_{1}>0, c_{2}>0, n_{0}\\in \\mathbb{N}$ so that $$0 \\leq c_{1}g(n) \\leq f(n) \\leq c_{2}g(n) \\qquad \\text{for all}\\;n\\geq n_0\\;.$$\n",
    "\n",
    "Even more graphic: A function $f(n)$ belongs to the set $\\Theta(g(n))$ if there exist positive constants $c_{1}$ and $c_{2}$ such that it can be \"sandwiched\" between $c_{1}g(n)$ and $c_{2}g(n)$ for all sufficiently large $n$.\n",
    "\n",
    "**Important: The lower and upper bound are given by the same function $g(n)$.\n",
    "\n",
    "![CLRS Fig 3.1](Figures/CLRS-Fig-3-1.png)\n",
    "Source: *CLRS Fig 3.1*"
   ]
  },
  {
   "cell_type": "markdown",
   "metadata": {},
   "source": [
    "- Because $\\Theta(g(n))$ is a set (of functions), we could (should) write $f(n) \\in \\Theta(g(n))$\n",
    "- Instead:\n",
    "    - we will usually write $f(n) = \\Theta(g(n))$ to express the same notion\n",
    "    - doing so simplifies notation and is common practice in the field\n",
    "\n",
    "- Consider **Figure 3.1a** from CLRS above. It gives an intuitive picture of function $f(n)$ and $g(n)$, where $f(n) = \\Theta(g(n))$\n",
    "- For all values of $n$ at and to the right of $n_{0}$, the value of $f(n)$ lies above $c_{1}$ and below $c_{2}$\n",
    "- In other words: for all $n \\geq n_{0}$ function $f(n)$ is equal to $g(n)$ to within a constant factor\n",
    "- $g(n)$ is an ***asymptotically tight bound*** for $f(n)$\n",
    "\n",
    "##### Requirements by definition of $\\Theta(g(n))$\n",
    "- The definition of $\\Theta(g(n))$ requires that every member $f(n) \\in \\Theta(g(n))$ be ***asymptotically nonnegative*** (i.e. a function that is positive or equal to zero for all sufficiently large $n$)\n",
    "- This implies that $f(n)$ be nonnegative whenever $n$ is sufficiently large\n",
    "- Consequently, function $g(n)$ itself must be asymptotically nonnegative, or else the set $\\Theta(g(n))$ is empty\n",
    "- Therefore, we assume that every function used within $\\Theta$-notion is asymptotically nonnegative\n",
    "- This assumption holds also for the **other asymptotic notations** defined in this chapter\n",
    "\n",
    "\n",
    "##### How to compute constants and establish order of growth?\n",
    "- Introduced informal notion of $\\Theta$-notation above amounted to throwing away:\n",
    "    - **lower order** terms\n",
    "    - the **leading coefficient** of **higher order** terms\n",
    "- How can we justify this intuition? By using the formal definition above!"
   ]
  },
  {
   "cell_type": "markdown",
   "metadata": {},
   "source": [
    "#### Example\n",
    "\n",
    "- Show that $\\frac{1}{2}n^2 - 3n = \\Theta(n^2)$\n",
    "- To do so, we must determine positive constants $c_{1},$ $c_{2}$ and $n_{0}$"
   ]
  },
  {
   "cell_type": "markdown",
   "metadata": {},
   "source": [
    "Recall that\n",
    "\n",
    "$$\\Theta(g(n)) = \\left\\{f(n) | \\:\\exists\\, c_{1}>0, c_{2}>0, n_{0}\\in \\mathbb{N} \\ni 0 \\leq c_{1}g(n) \\leq f(n) \\leq c_{2}g(n) \\; \\forall \\, n \\geq n_{0}\\right\\}$$\n",
    "\n",
    "\n",
    "We have $g(n)=n^2$ and inserting our function $\\frac{1}{2}n^2 - 3n$ we get\n",
    "\n",
    "\\begin{equation}\n",
    "c_{1}n^2 \\leq \\frac{1}{2}n^2 - 3n \\leq c_{2}n^2\n",
    "\\end{equation}\n",
    "\n",
    "for all $n \\geq n_{0}$. Dividing by $n^2$ yields\n",
    "\n",
    "\\begin{equation}\n",
    "c_{1} \\leq \\frac{1}{2} - \\frac{3}{n} \\leq c_{2}\n",
    "\\end{equation}\n"
   ]
  },
  {
   "cell_type": "markdown",
   "metadata": {},
   "source": [
    "Now consider **right hand** inequality only. Can we determine a positive constant $c_{2}$ that fulfills\n",
    "\\begin{equation}\n",
    "\\frac{1}{2} - \\frac{3}{n} \\leq c_{2}\n",
    "\\end{equation}\n",
    "for all $n$ above a certain value?\n",
    "\n",
    "This holds for any value $n \\geq 1$ by choosing any constant $c_{2} \\geq \\frac{1}{2}$. To show this explicitly, note that\n",
    "\n",
    "\\begin{equation}\n",
    "\\frac{1}{2} - \\frac{3}{n} < \\frac{1}{2} \\iff - \\frac{3}{n} < 0\n",
    "\\end{equation}\n",
    "which is true for all $n>0$."
   ]
  },
  {
   "cell_type": "markdown",
   "metadata": {},
   "source": [
    "Now consider **left hand** inequality only. Can we determine a positive constant $c_{1}$?\n",
    "\\begin{equation}\n",
    "0 < c_{1} \\leq \\frac{1}{2} - \\frac{3}{n}\n",
    "\\end{equation}\n",
    "\n",
    "The first step is to check if we can find any $n$ so that\n",
    "\\begin{equation}\n",
    "0 <   \\frac{1}{2} - \\frac{3}{n}\n",
    "\\end{equation}\n",
    "By basic algebra we find\n",
    "\\begin{equation}\n",
    "0 <  \\frac{1}{2} - \\frac{3}{n} \\iff n > 6 \\;.\n",
    "\\end{equation}\n",
    "Choosing $n=7$ we obtain\n",
    "\\begin{equation}\n",
    "0 < c_{1} \\leq \\frac{1}{2} - \\frac{3}{7} = \\frac{1}{14}\n",
    "\\end{equation}\n",
    "so the inequality holds for any value $n \\geq 7$ by choosing any constant $0 \\leq c_{1} \\leq \\frac{1}{14}$."
   ]
  },
  {
   "cell_type": "markdown",
   "metadata": {},
   "source": [
    "- This shows that by choosing $c_{1} = 1/14$, $c_{2} = 1/2$ and $n_{0} = 7$ we can verify that $\\frac{1}{2}n^2 - 3n = \\Theta(n^2)$\n",
    "- Other choices for the constants exist, but the important thing is that *some* choices exist\n",
    "- A different function belonging to $\\Theta(n^2)$ would require different constants\n",
    "\n",
    "#### In-class exercise\n",
    "Verify that $6n^3 \\ne \\Theta(n^2)$"
   ]
  },
  {
   "cell_type": "markdown",
   "metadata": {},
   "source": [
    "#### What have we learned from this?\n",
    "- For determining asymptotically tight bounds lower-term orders can be ignored for large $n$\n",
    "- When $n$ is large, even a tiny fraction of a higher order term suffices to dominate lower order terms\n",
    "- What permits the inequalities in the Definition of $\\Theta$-notation to be satisfied?\n",
    "    1. Setting $c_{1}$ to a value slightly smaller than coefficient of highest-order term\n",
    "    1. Setting $c_{2}$ to a value slightly larger than coefficient of highest-order term\n",
    "- The coefficient of the highest order term can likewise be ignored, since it only changes $c_{1}$ and $c_{2}$ by a constant factor equal to the coefficient\n",
    "\n",
    "\n",
    "#### General case\n",
    "- For any polynomial \n",
    "    $$p(n) = \\sum_{i=0}^d a_{i}n^i$$\n",
    "  we have $p(n) = \\Theta(n^d)$, provided that\n",
    "    - $a_{i}$ are constants\n",
    "    - $a_{d} \\gt 0$\n",
    "- Since any constant is a degree-0 polynominal, we can express any constant function as $\\Theta(n^0)$, or $\\Theta(1)$\n",
    "- We shall often use notation $\\Theta(1)$ to mean either a constant or a constant function with respect to some variable"
   ]
  },
  {
   "cell_type": "markdown",
   "metadata": {},
   "source": [
    "#### O-notation\n",
    "- The $\\Theta$-notation asymptotically bounds a function **from above and below**\n",
    "- We use $O$-notation when we have only an asymptotic **upper bound**\n",
    "- For a given function $g(n)$, we denote by $O(g(n))$ the set of functions"
   ]
  },
  {
   "cell_type": "markdown",
   "metadata": {},
   "source": [
    "$${O}(g(n)) = \\left\\{f(n) | \\:\\exists\\, c>0, n_{0}\\in \\mathbb{N} \\ni 0 \\leq f(n) \\leq cg(n) \\; \\forall \\, n \\geq n_{0}\\right\\}$$"
   ]
  },
  {
   "cell_type": "markdown",
   "metadata": {},
   "source": [
    "- We use $O$-notation to give an upper bound on a function, to within a constant factor\n",
    "- **Figure 3.1b** shows the intuition behind $O$-notation\n",
    "- For all values $n$ at and to the right of $n_{0}$, the function $f(n)$ is on or below $cg(n)$\n",
    "- We write $f(n) = O(g(n))$ to indicate that a function $f(n)$ is a member of the set $O(g(n))$\n",
    "- **Note**: $f(n) = \\Theta(g(n))$ implies $f(n) = O(g(n))$, since $\\Theta$-notation is a stronger notation than $O$-notation\n",
    "- Set theory: $\\Theta(g(n)) \\subseteq O(g(n))$\n",
    "- Any quadratic function $an^2 + bn + c$, where $a \\gt 0$, is in $\\Theta(n^2)$ also shows that any such function is in $O(n^2)$\n",
    "- **Be aware**: in literature we sometimes find $O$-notation informally describing asymptotically tight bounds, what we actually defined as $\\Theta$-notation\n",
    "- Distinguishing asymptotically upper bound from asymptotically tight bounds is standard in the algorithms literature\n",
    "\n",
    "![CLRS Fig 3.1](Figures/CLRS-Fig-3-1.png)\n",
    "Source: *CLRS Fig 3.1*"
   ]
  },
  {
   "cell_type": "markdown",
   "metadata": {},
   "source": [
    "#### $\\Omega$-notation\n",
    "- $\\Omega$-notation provides an **asymptotic lower bound**\n",
    "- For a given function $g(n)$, we denote by $\\Omega(g(n))$ the set of functions"
   ]
  },
  {
   "cell_type": "markdown",
   "metadata": {},
   "source": [
    "$$\\Omega(g(n)) = \\left\\{f(n) | \\:\\exists\\, c>0, n_{0}\\in \\mathbb{N} \\ni 0 \\leq cg(n) \\leq f(n) \\; \\forall \\, n \\geq n_{0}\\right\\}$$"
   ]
  },
  {
   "cell_type": "markdown",
   "metadata": {},
   "source": [
    "- **Figure 3.1c** shows the intuition behind $\\Omega$-notation\n",
    "- For all values $n$ at or to the right of $n_0$, the value of $f(n)$ is on or above $cg(n)$"
   ]
  },
  {
   "cell_type": "markdown",
   "metadata": {},
   "source": [
    " \n",
    " "
   ]
  },
  {
   "cell_type": "markdown",
   "metadata": {},
   "source": [
    "**Theorem**\n",
    "For any two functions $f(n)$ and $g(n)$, we have $f(n) = \\Theta(g(n))$ if and only if $f(n) = O(g(n))$ and $f(n) = \\Omega(g(n))$."
   ]
  },
  {
   "cell_type": "markdown",
   "metadata": {},
   "source": [
    "- $\\Omega$ provides a lower bound on the best-case running time of an algorithm\n",
    "- Example: best-case running time of insertion sort is $\\Omega(n)$, which implies that the running time for insertion sort is $\\Omega(n)$\n",
    "- Running time of insertion sort belongs to both $\\Omega(n)$ and $O(n^2)$, since it falls anywhere between a linear function of $n$ and a quadratic function of $n$\n",
    "- The running time of insertion sort is **not** $\\Omega(n^2)$, since there exists an input for which insertion sort runs in $\\Theta(n)$ time\n",
    "- However: **worst-case** running time for insertion sort is $\\Omega(n^2)$, since there exists an input that causes the algorithm to take $\\Omega(n^2)$"
   ]
  },
  {
   "cell_type": "markdown",
   "metadata": {},
   "source": [
    "### Summary and extension"
   ]
  },
  {
   "cell_type": "markdown",
   "metadata": {},
   "source": [
    "#### Asymptotic upper bound: $O$-notation\n",
    "\n",
    "\\begin{align}\n",
    "O(g(n)) &= \\left\\{\\left. f(n) \\right| \\exists c>0, n_0>0 \\ni 0\\leq f(n) \\leq c g(n)\\; \\forall n\\geq n_0\\right\\} \\\\\n",
    "\\end{align}\n",
    "\n",
    "- All $f(n)$ in $O(g(n))$ are asymptotically non-negative\n",
    "- All $f(n)$ in $O(g(n))$ are asymptotically bounded *from above* by $c g(n)$\n",
    "- \"A function is in $O(g(n))$ if it does not grow faster than $g(n)$ for large enough $n$\"\n",
    "\n",
    "Examples:\n",
    "- $n\\in O(n)$\n",
    "- $n\\in O(n^2)$\n",
    "- $5 n^2 + 2 n - 10 \\in O(n^2)$\n",
    "- $10^{-6} n^3 \\notin O(n^2)$"
   ]
  },
  {
   "cell_type": "markdown",
   "metadata": {},
   "source": [
    "#### Asymptotic lower bound: $\\Omega$-notation\n",
    "\n",
    "\\begin{align}\n",
    "\\Omega(g(n)) &= \\left\\{\\left. f(n) \\right| \\exists c>0, n_0>0 \\ni 0\\leq c g(n) \\leq f(n)\\; \\forall n\\geq n_0\\right\\} \\\\\n",
    "\\end{align}\n",
    "\n",
    "- All $f(n)$ in $\\Omega(g(n))$ are asymptotically non-negative\n",
    "- All $f(n)$ in $\\Omega(g(n))$ are asymptotically bounded *from below* by $c g(n)$\n",
    "- \"A function is in $\\Omega(g(n))$ if it grows at least as fast as $g(n)$ for large enough $n$\"\n",
    "\n",
    "Examples:\n",
    "- $n\\in \\Omega(n)$\n",
    "- $n^2\\in \\Omega(n)$\n",
    "- $5 n^2 + 2 n - 10 \\in \\Omega(n^2)$\n",
    "- $10^{6} n^2 \\notin \\Omega(n^3)$"
   ]
  },
  {
   "cell_type": "markdown",
   "metadata": {},
   "source": [
    "#### Asymptotic tight bound: $\\Theta$-notation\n",
    "\n",
    "\\begin{align}\n",
    "\\Theta(g(n)) &= \\left\\{\\left. f(n) \\right| \\exists c_1>0, c_2>0, n_0>0 \\ni 0\\leq c_1 g(n) \\leq f(n) \\leq c_2 g(n)\\; \\forall n\\geq n_0\\right\\} \\\\\n",
    "\\end{align}\n",
    "\n",
    "- All $f(n)$ in $\\Theta(g(n))$ are asymptotically non-negative\n",
    "- All $f(n)$ in $\\Theta(g(n))$ are asymptotically bounded *from above and below* by $c_1 g(n)$ and $c_2 g(n)$\n",
    "- \"A function is in $\\Theta(g(n))$ if it grows as fast as $g(n)$ for large enough $n$\n",
    "\n",
    "Examples:\n",
    "- $n\\in \\Theta(n)$\n",
    "- $5 n^2 + 2 n - 10 \\in \\Theta(n^2)$\n",
    "- $5 n^2 + 2 n - 10 \\notin \\Theta(n)$ (grows too fast, upper bound violated)\n",
    "- $5 n^2 + 2 n - 10 \\notin \\Theta(n^3)$ (grows too slowly, lower bound violated)"
   ]
  },
  {
   "cell_type": "markdown",
   "metadata": {},
   "source": [
    "#### Relations between $O$, $\\Omega$, $\\Theta$\n",
    "\n",
    "- $\\Theta(g(n))\\subseteq O(g(n))$\n",
    "- $\\Theta(g(n))\\subseteq \\Omega(g(n))$\n",
    "\n",
    "##### Theorem 3.1\n",
    "\n",
    "Let $f(n)$ and $g(n)$ be any two functions. Then\n",
    "\n",
    "\\begin{align}\n",
    "f(n) \\in \\Theta(g(n)) &\\iff f(n) \\in O(g(n)) \\wedge f(n)\\in\\Omega(g(n)) \\\\\n",
    "\\iff &\\quad \\text{if and only if}\\\\\n",
    "\\wedge &\\quad \\text{and}\n",
    "\\end{align}\n",
    "\n",
    "#### Simplified notation\n",
    "\n",
    "Instead of\n",
    "\n",
    "$$f(n)\\in\\Theta(g(n))$$\n",
    "\n",
    "we usually write\n",
    "\n",
    "$$f(n) = \\Theta(g(n))$$\n",
    "\n",
    "even though this is a slight abuse of the equal sign."
   ]
  },
  {
   "cell_type": "markdown",
   "metadata": {},
   "source": [
    "#### Asymptotically tight bound: Worked example\n",
    "\n",
    "$$f(n) = \\frac{n^2}{2} - 2n$$\n",
    "\n",
    "Find $c_1$, $c_2$, and $n_0$ so that\n",
    "\n",
    "\\begin{align}\n",
    " c_1 n^2 &\\leq f(n) \\leq c_2 n^2 \\qquad\\forall n\\geq n_0 \\\\\n",
    "\\iff c_1 n^2 &\\leq \\frac{n^2}{2} - 2n \\leq c_2 n^2 \\\\\n",
    "\\iff c_1 &\\leq \\frac{1}{2}-\\frac{2}{n} \\leq c_2\n",
    "\\end{align}\n",
    "\n",
    "- Since $c_1>0$ and $c_2>0$ required, we must have $n>4$, i.e., $n_0>4$. \n",
    "- We choose $n_0=8$ for convenience\n",
    "\n",
    "We then have\n",
    "\n",
    "$$c_1\\leq \\frac{1}{2}-\\frac{2}{8} = \\frac{1}{4}$$\n",
    "\n",
    "and\n",
    "\n",
    "$$c_2 \\geq \\lim_{n\\to\\infty} \\frac{1}{2}-\\frac{2}{n} = \\frac{1}{2} \\;.$$\n",
    "\n",
    "We thus choose $n_0=8$, $c_1=1/4$, $c_2=1/2$ and conclude that $f(n)=\\Theta(n^2)$."
   ]
  },
  {
   "cell_type": "code",
   "execution_count": 18,
   "metadata": {
    "ExecuteTime": {
     "end_time": "2025-02-10T09:27:32.143959Z",
     "start_time": "2025-02-10T09:27:32.019304Z"
    }
   },
   "outputs": [
    {
     "ename": "ModuleNotFoundError",
     "evalue": "No module named 'matplotlib'",
     "output_type": "error",
     "traceback": [
      "\u001b[0;31m---------------------------------------------------------------------------\u001b[0m",
      "\u001b[0;31mModuleNotFoundError\u001b[0m                       Traceback (most recent call last)",
      "Cell \u001b[0;32mIn[18], line 1\u001b[0m\n\u001b[0;32m----> 1\u001b[0m \u001b[38;5;28;01mimport\u001b[39;00m\u001b[38;5;250m \u001b[39m\u001b[38;5;21;01mmatplotlib\u001b[39;00m\u001b[38;5;21;01m.\u001b[39;00m\u001b[38;5;21;01mpyplot\u001b[39;00m\u001b[38;5;250m \u001b[39m\u001b[38;5;28;01mas\u001b[39;00m\u001b[38;5;250m \u001b[39m\u001b[38;5;21;01mplt\u001b[39;00m\n\u001b[1;32m      2\u001b[0m \u001b[38;5;28;01mimport\u001b[39;00m\u001b[38;5;250m \u001b[39m\u001b[38;5;21;01mnumpy\u001b[39;00m\u001b[38;5;250m \u001b[39m\u001b[38;5;28;01mas\u001b[39;00m\u001b[38;5;250m \u001b[39m\u001b[38;5;21;01mnp\u001b[39;00m\n\u001b[1;32m      3\u001b[0m get_ipython()\u001b[38;5;241m.\u001b[39mrun_line_magic(\u001b[38;5;124m'\u001b[39m\u001b[38;5;124mmatplotlib\u001b[39m\u001b[38;5;124m'\u001b[39m, \u001b[38;5;124m'\u001b[39m\u001b[38;5;124minline\u001b[39m\u001b[38;5;124m'\u001b[39m)\n",
      "\u001b[0;31mModuleNotFoundError\u001b[0m: No module named 'matplotlib'"
     ]
    }
   ],
   "source": [
    "import matplotlib.pyplot as plt\n",
    "import numpy as np\n",
    "%matplotlib inline"
   ]
  },
  {
   "cell_type": "code",
   "execution_count": 21,
   "metadata": {},
   "outputs": [],
   "source": [
    "plt.rcParams['figure.figsize'] = (10, 3)\n",
    "plt.rcParams['text.usetex'] = True\n",
    "plt.rcParams['font.size'] = 18"
   ]
  },
  {
   "cell_type": "code",
   "execution_count": 23,
   "metadata": {},
   "outputs": [
    {
     "data": {
      "image/png": "[encoded data removed]",
      "text/plain": [
       "<Figure size 1000x300 with 1 Axes>"
      ]
     },
     "metadata": {},
     "output_type": "display_data"
    }
   ],
   "source": [
    "n = np.arange(150)\n",
    "plt.plot(n, 0.25*n**2, label=r'$c_1 n^2=\\frac{1}{4} n^2$')\n",
    "plt.plot(n, 0.5*n**2, label=r'$c_2 n^2 = \\frac{1}{2} n^2$')\n",
    "plt.plot([8, 8], [0, 100], 'k--')\n",
    "plt.plot(n, 0.5*n**2-2*n, label=r'$f(n)$')\n",
    "plt.xlabel(r'$n$')\n",
    "plt.legend();"
   ]
  },
  {
   "cell_type": "markdown",
   "metadata": {},
   "source": [
    "### $O$, $\\Omega$ and $\\Theta$ in equations\n",
    "\n",
    "- In equations, $\\Theta(g(n))$ stands for any function from this set\n",
    "\n",
    "$$2n^2 + 3n + 1 = 2n^2 + \\Theta(n)$$\n",
    "\n",
    "means\n",
    "\n",
    "$$2n^2 + 3n + 1 = 2n^2 + f(n)$$\n",
    "\n",
    "for some $f(n)\\in \\Theta(n)$; we just don't care about the details and don't even want to name the function.\n",
    "\n",
    "- If asymptotic expressions appear on both sides, e.g.,\n",
    "\n",
    "$$2n^2+\\Theta(n) = \\Theta(n^2)$$\n",
    "\n",
    "we interprete this as saying: for any $f(n)\\in\\Theta(n)$ on the left-hand side, there is a $g(n)\\in\\Theta(n^2)$, so that $2n^2+f(n)=g(n)$.\n",
    "\n",
    "- In particular, we can simplify\n",
    "\n",
    "$$2n^2+3n+1 = 2n^2+\\Theta(n) = \\Theta(n^2)\\;.$$"
   ]
  },
  {
   "cell_type": "markdown",
   "metadata": {},
   "source": [
    "### Properties of asymptotic functions\n",
    "\n",
    "#### Transitivity ($\\Theta$, $O$, $\\Omega$)\n",
    "\n",
    "$$f(n) = \\Theta(g(n)) \\wedge g(n)=\\Theta(h(n)) \\implies f(n)=\\Theta(h(n))$$\n",
    "\n",
    "#### Reflexivity ($\\Theta$, $O$, $\\Omega$)\n",
    "\n",
    "$$f(n) = \\Theta(f(n))$$\n",
    "\n",
    "#### Symmetry ($\\Theta$)\n",
    "\n",
    "$$f(n) = \\Theta(g(n)) \\iff g(n) = \\Theta(f(n))$$\n",
    "\n",
    "#### Transpose symmetry ($O$, $\\Omega$; $o$, $\\omega$)\n",
    "\n",
    "\\begin{align}\n",
    "f(n) = O(g(n)) &\\iff g(n) = \\Omega(f(n)) \n",
    "\\end{align}\n",
    "\n",
    "#### Comparison\n",
    "We have roughly\n",
    "\n",
    "|$\\leq$|$=$|$\\geq$|\n",
    "|-|-|-|\n",
    "|$O$|$\\Theta$|$\\Omega$|\n",
    "\n",
    "**Note**: For numbers $a$ and $b$, one of the following must be true: $a<b$, $a=b$ or $a>b$. For functions, this may be undecided.\n",
    "\n",
    "##### Example\n",
    "\n",
    "The function\n",
    "\n",
    "$$f(n) = n^{1+\\sin n}$$\n",
    "\n",
    "is neither asymptotically larger nor asymptotically smaller than $g(n) = n$ because the exponent in $f(n)$ varies between 0 and 2."
   ]
  },
  {
   "cell_type": "code",
   "execution_count": 25,
   "metadata": {},
   "outputs": [
    {
     "data": {
      "image/png": "[encoded data removed]",
      "text/plain": [
       "<Figure size 1000x300 with 1 Axes>"
      ]
     },
     "metadata": {},
     "output_type": "display_data"
    }
   ],
   "source": [
    "x = np.linspace(0, 30, num=1000)\n",
    "plt.plot(x, x, label='$n$');\n",
    "plt.plot(x, x**2, label='$n^2$');\n",
    "plt.plot(x, x**(1+np.sin(x)), label='$n^{1+\\sin x}$');\n",
    "plt.legend();"
   ]
  },
  {
   "cell_type": "markdown",
   "metadata": {},
   "source": [
    "------"
   ]
  },
  {
   "cell_type": "code",
   "execution_count": null,
   "metadata": {},
   "outputs": [],
   "source": []
  }
 ],
 "metadata": {
  "kernelspec": {
   "display_name": "Python 3 (ipykernel)",
   "language": "python",
   "name": "python3"
  },
  "language_info": {
   "codemirror_mode": {
    "name": "ipython",
    "version": 3
   },
   "file_extension": ".py",
   "mimetype": "text/x-python",
   "name": "python",
   "nbconvert_exporter": "python",
   "pygments_lexer": "ipython3",
   "version": "3.11.11"
  },
  "latex_metadata": {
   "affiliation": "NMBU / REALTEK",
   "author": "Hans Ekkehard Plesser",
   "date": "",
   "title": "INF221 Lecture 3"
  }
 },
 "nbformat": 4,
 "nbformat_minor": 4
}

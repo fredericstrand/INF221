{
 "cells": [
  {
   "cell_type": "markdown",
   "metadata": {},
   "source": [
    "# Voluntary tasks week 1\n",
    "\n",
    "\n",
    "## Task 1-5"
   ]
  },
  {
   "cell_type": "code",
   "execution_count": 8,
   "metadata": {},
   "outputs": [
    {
     "data": {
      "text/plain": [
       "17"
      ]
     },
     "execution_count": 8,
     "metadata": {},
     "output_type": "execute_result"
    }
   ],
   "source": [
    "# Task 1: (a) First fit\n",
    "T = 22\n",
    "list1 = [1, 2, 5, 9, 10]\n",
    "\n",
    "# First fit problem\n",
    "sum = 0\n",
    "for num in list1:\n",
    "    if sum < T and sum + num <= T:\n",
    "        sum += num\n",
    "\n",
    "sum"
   ]
  },
  {
   "cell_type": "code",
   "execution_count": 7,
   "metadata": {},
   "outputs": [
    {
     "data": {
      "text/plain": [
       "17"
      ]
     },
     "execution_count": 7,
     "metadata": {},
     "output_type": "execute_result"
    }
   ],
   "source": [
    "# Task 1 b) Best fit algorithm\n",
    "T = 22\n",
    "\n",
    "list1.sort()\n",
    "sum = 0\n",
    "for num in list1:\n",
    "    if sum < T and sum + num <= T:\n",
    "        sum += num\n",
    "\n",
    "sum"
   ]
  },
  {
   "cell_type": "code",
   "execution_count": 9,
   "metadata": {},
   "outputs": [
    {
     "data": {
      "text/plain": [
       "22"
      ]
     },
     "execution_count": 9,
     "metadata": {},
     "output_type": "execute_result"
    }
   ],
   "source": [
    "# Task 1 c) Best fit reverse\n",
    "T = 22\n",
    "\n",
    "list1.sort(reverse=True)\n",
    "sum = 0\n",
    "for num in list1:\n",
    "    if sum < T and sum + num <= T:\n",
    "        sum += num\n",
    "\n",
    "sum"
   ]
  },
  {
   "cell_type": "markdown",
   "metadata": {},
   "source": [
    "## Task 2-5\n",
    "\n"
   ]
  },
  {
   "cell_type": "code",
   "execution_count": 3,
   "metadata": {},
   "outputs": [
    {
     "name": "stdout",
     "output_type": "stream",
     "text": [
      "*\n",
      "*\n",
      "*\n",
      "*\n",
      "*\n",
      "*\n",
      "*\n",
      "5\n"
     ]
    }
   ],
   "source": [
    "n = 5\n",
    "\n",
    "for k in range(1, n+1):\n",
    "    x = k\n",
    "    while (x < n):\n",
    "        print(\"*\")\n",
    "        x = 2 * x\n",
    "\n",
    "print(x)"
   ]
  },
  {
   "cell_type": "code",
   "execution_count": null,
   "metadata": {},
   "outputs": [],
   "source": []
  }
 ],
 "metadata": {
  "kernelspec": {
   "display_name": "Python (myenv)",
   "language": "python",
   "name": "myenv"
  },
  "language_info": {
   "codemirror_mode": {
    "name": "ipython",
    "version": 3
   },
   "file_extension": ".py",
   "mimetype": "text/x-python",
   "name": "python",
   "nbconvert_exporter": "python",
   "pygments_lexer": "ipython3",
   "version": "3.8.18"
  }
 },
 "nbformat": 4,
 "nbformat_minor": 2
}
